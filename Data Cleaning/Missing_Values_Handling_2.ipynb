{
  "cells": [
    {
      "cell_type": "markdown",
      "metadata": {
        "id": "p4iJn7ktjmqF"
      },
      "source": [
        "\n",
        "<img src=\"https://user-images.githubusercontent.com/7065401/39117173-a433bf6a-46e6-11e8-8a40-b4d4d6422493.jpg\"\n",
        "    style=\"width:300px; float: right; margin: 0 40px 40px 40px;\"></img>\n",
        "\n",
        "# Missing Data"
      ]
    },
    {
      "cell_type": "markdown",
      "metadata": {
        "id": "NGyU3rk3jmqG"
      },
      "source": [
        "![separator2](https://i.imgur.com/4gX5WFr.png)\n",
        "\n",
        "## Hands on!"
      ]
    },
    {
      "cell_type": "code",
      "execution_count": null,
      "metadata": {
        "id": "4H2SOdCijmqH"
      },
      "outputs": [],
      "source": [
        "import numpy as np\n",
        "import pandas as pd"
      ]
    },
    {
      "cell_type": "markdown",
      "metadata": {
        "id": "7L-kZSX3jmqI"
      },
      "source": [
        "What does \"missing data\" mean? What is a missing value? It depends on the origin of the data and the context it was generated. For example, for a survey, a _`Salary`_ field with an empty value, or a number 0, or an invalid value (a string for example) can be considered \"missing data\". These concepts are related to the values that Python will consider \"Falsy\":"
      ]
    },
    {
      "cell_type": "code",
      "execution_count": null,
      "metadata": {
        "id": "uAC7tfIajmqI"
      },
      "outputs": [],
      "source": [
        "falsy_values = (0, False, None, '', [], {})"
      ]
    },
    {
      "cell_type": "markdown",
      "metadata": {
        "id": "--0IH2unjmqI"
      },
      "source": [
        "For Python, all the values above are considered \"falsy\":"
      ]
    },
    {
      "cell_type": "code",
      "execution_count": null,
      "metadata": {
        "scrolled": true,
        "colab": {
          "base_uri": "https://localhost:8080/"
        },
        "id": "qJsFV6FijmqI",
        "outputId": "2fe3d796-b672-40ee-963d-3ee5d2f70302"
      },
      "outputs": [
        {
          "output_type": "execute_result",
          "data": {
            "text/plain": [
              "False"
            ]
          },
          "metadata": {},
          "execution_count": 3
        }
      ],
      "source": [
        "any(falsy_values)"
      ]
    },
    {
      "cell_type": "markdown",
      "metadata": {
        "id": "2_xAxTaEjmqJ"
      },
      "source": [
        "Numpy has a special \"nullable\" value for numbers which is `np.nan`. It's _NaN_: \"Not a number\""
      ]
    },
    {
      "cell_type": "code",
      "execution_count": null,
      "metadata": {
        "colab": {
          "base_uri": "https://localhost:8080/"
        },
        "id": "Bw3KMQx6jmqJ",
        "outputId": "922125b5-6c25-4e53-f4d4-d750527ea7a0"
      },
      "outputs": [
        {
          "output_type": "execute_result",
          "data": {
            "text/plain": [
              "nan"
            ]
          },
          "metadata": {},
          "execution_count": 4
        }
      ],
      "source": [
        "np.nan"
      ]
    },
    {
      "cell_type": "markdown",
      "metadata": {
        "id": "-PQ1ImS4jmqJ"
      },
      "source": [
        "The `np.nan` value is kind of a virus. Everything that it touches becomes `np.nan`:"
      ]
    },
    {
      "cell_type": "code",
      "execution_count": null,
      "metadata": {
        "colab": {
          "base_uri": "https://localhost:8080/"
        },
        "id": "Wdidl0UPjmqJ",
        "outputId": "4d7c372f-cdef-4db3-9335-c80b3131b54d"
      },
      "outputs": [
        {
          "output_type": "execute_result",
          "data": {
            "text/plain": [
              "nan"
            ]
          },
          "metadata": {},
          "execution_count": 5
        }
      ],
      "source": [
        "3 + np.nan"
      ]
    },
    {
      "cell_type": "code",
      "execution_count": null,
      "metadata": {
        "id": "O08tJaN5jmqJ"
      },
      "outputs": [],
      "source": [
        "a = np.array([1, 2, 3, np.nan, np.nan, 4])"
      ]
    },
    {
      "cell_type": "code",
      "execution_count": null,
      "metadata": {
        "colab": {
          "base_uri": "https://localhost:8080/"
        },
        "id": "v4Y2hLytjmqJ",
        "outputId": "f1228f7c-efef-40b6-b435-2536d7831604"
      },
      "outputs": [
        {
          "output_type": "execute_result",
          "data": {
            "text/plain": [
              "np.float64(nan)"
            ]
          },
          "metadata": {},
          "execution_count": 7
        }
      ],
      "source": [
        "a.sum()"
      ]
    },
    {
      "cell_type": "code",
      "execution_count": null,
      "metadata": {
        "colab": {
          "base_uri": "https://localhost:8080/"
        },
        "id": "H_ZqOcfTjmqJ",
        "outputId": "07318a7b-10bb-43f0-e60a-1b543bc10c24"
      },
      "outputs": [
        {
          "output_type": "execute_result",
          "data": {
            "text/plain": [
              "np.float64(nan)"
            ]
          },
          "metadata": {},
          "execution_count": 8
        }
      ],
      "source": [
        "a.mean()"
      ]
    },
    {
      "cell_type": "markdown",
      "metadata": {
        "id": "k7KqtlFbjmqK"
      },
      "source": [
        "This is better than regular `None` values, which in the previous examples would have raised an exception:"
      ]
    },
    {
      "cell_type": "code",
      "execution_count": null,
      "metadata": {
        "id": "b4uWraR5jmqK"
      },
      "outputs": [],
      "source": [
        "# 3 + None"
      ]
    },
    {
      "cell_type": "markdown",
      "metadata": {
        "id": "skboOElwjmqK"
      },
      "source": [
        "For a numeric array, the `None` value is replaced by `np.nan`:"
      ]
    },
    {
      "cell_type": "code",
      "execution_count": null,
      "metadata": {
        "id": "KgQ9t0LijmqK"
      },
      "outputs": [],
      "source": [
        "a = np.array([1, 2, 3, np.nan, None, 4], dtype='float')"
      ]
    },
    {
      "cell_type": "code",
      "execution_count": null,
      "metadata": {
        "colab": {
          "base_uri": "https://localhost:8080/"
        },
        "id": "__8aVcKljmqK",
        "outputId": "4cc89245-6809-49ee-aff8-1e08da3c5439"
      },
      "outputs": [
        {
          "output_type": "execute_result",
          "data": {
            "text/plain": [
              "array([ 1.,  2.,  3., nan, nan,  4.])"
            ]
          },
          "metadata": {},
          "execution_count": 12
        }
      ],
      "source": [
        "a"
      ]
    },
    {
      "cell_type": "markdown",
      "metadata": {
        "id": "hJ5h390YjmqK"
      },
      "source": [
        "As we said, `np.nan` is like a virus. If you have any `nan` value in an array and you try to perform an operation on it, you'll get unexpected results:"
      ]
    },
    {
      "cell_type": "code",
      "execution_count": null,
      "metadata": {
        "id": "1rNLiC9ljmqK"
      },
      "outputs": [],
      "source": [
        "a = np.array([1, 2, 3, np.nan, np.nan, 4])"
      ]
    },
    {
      "cell_type": "code",
      "execution_count": null,
      "metadata": {
        "colab": {
          "base_uri": "https://localhost:8080/"
        },
        "id": "Vvr-oJEgjmqK",
        "outputId": "ce92e320-8ba1-454a-ea87-57b891f6d7ef"
      },
      "outputs": [
        {
          "output_type": "execute_result",
          "data": {
            "text/plain": [
              "np.float64(nan)"
            ]
          },
          "metadata": {},
          "execution_count": 14
        }
      ],
      "source": [
        "a.mean()"
      ]
    },
    {
      "cell_type": "code",
      "execution_count": null,
      "metadata": {
        "colab": {
          "base_uri": "https://localhost:8080/"
        },
        "id": "nxK1OYxQjmqK",
        "outputId": "30731da6-2af4-4b35-8420-af3c0572404e"
      },
      "outputs": [
        {
          "output_type": "execute_result",
          "data": {
            "text/plain": [
              "np.float64(nan)"
            ]
          },
          "metadata": {},
          "execution_count": 15
        }
      ],
      "source": [
        "a.sum()"
      ]
    },
    {
      "cell_type": "markdown",
      "metadata": {
        "id": "_4GS8UEhjmqK"
      },
      "source": [
        "Numpy also supports an \"Infinite\" type:"
      ]
    },
    {
      "cell_type": "code",
      "execution_count": null,
      "metadata": {
        "colab": {
          "base_uri": "https://localhost:8080/"
        },
        "id": "tHIgmjgXjmqL",
        "outputId": "b35544bf-dd01-48c1-c3a9-ae59ca0e2e9e"
      },
      "outputs": [
        {
          "output_type": "execute_result",
          "data": {
            "text/plain": [
              "inf"
            ]
          },
          "metadata": {},
          "execution_count": 16
        }
      ],
      "source": [
        "np.inf"
      ]
    },
    {
      "cell_type": "markdown",
      "metadata": {
        "id": "CNgFHIMajmqL"
      },
      "source": [
        "Which also behaves as a virus:"
      ]
    },
    {
      "cell_type": "code",
      "execution_count": null,
      "metadata": {
        "colab": {
          "base_uri": "https://localhost:8080/"
        },
        "id": "BFNN2-i8jmqL",
        "outputId": "8e7967bc-f7c5-4f5c-ee52-e751fbf128ce"
      },
      "outputs": [
        {
          "output_type": "execute_result",
          "data": {
            "text/plain": [
              "inf"
            ]
          },
          "metadata": {},
          "execution_count": 17
        }
      ],
      "source": [
        "3 + np.inf"
      ]
    },
    {
      "cell_type": "code",
      "execution_count": null,
      "metadata": {
        "colab": {
          "base_uri": "https://localhost:8080/"
        },
        "id": "gBddZ9R7jmqL",
        "outputId": "cc6182f5-26e0-498c-a59b-8eb92d3ce93b"
      },
      "outputs": [
        {
          "output_type": "execute_result",
          "data": {
            "text/plain": [
              "inf"
            ]
          },
          "metadata": {},
          "execution_count": 18
        }
      ],
      "source": [
        "np.inf / 3"
      ]
    },
    {
      "cell_type": "code",
      "execution_count": null,
      "metadata": {
        "colab": {
          "base_uri": "https://localhost:8080/"
        },
        "id": "Nr7yXYw9jmqL",
        "outputId": "c9d59770-f6b6-45b2-edcb-b9fc1ff74c33"
      },
      "outputs": [
        {
          "output_type": "execute_result",
          "data": {
            "text/plain": [
              "nan"
            ]
          },
          "metadata": {},
          "execution_count": 19
        }
      ],
      "source": [
        "np.inf / np.inf"
      ]
    },
    {
      "cell_type": "code",
      "execution_count": null,
      "metadata": {
        "id": "DynAoNyKjmqL"
      },
      "outputs": [],
      "source": [
        "b = np.array([1, 2, 3, np.inf, np.nan, 4], dtype=float)"
      ]
    },
    {
      "cell_type": "code",
      "execution_count": null,
      "metadata": {
        "colab": {
          "base_uri": "https://localhost:8080/"
        },
        "id": "zAsxRH3XjmqL",
        "outputId": "c0628dbf-4621-46fc-8df0-08b70ed222c3"
      },
      "outputs": [
        {
          "output_type": "execute_result",
          "data": {
            "text/plain": [
              "np.float64(nan)"
            ]
          },
          "metadata": {},
          "execution_count": 23
        }
      ],
      "source": [
        "b.sum()"
      ]
    },
    {
      "cell_type": "markdown",
      "metadata": {
        "id": "M2L-da3xjmqL"
      },
      "source": [
        "![separator1](https://i.imgur.com/ZUWYTii.png)\n",
        "\n",
        "### Checking for `nan` or `inf`\n",
        "\n",
        "There are two functions: `np.isnan` and `np.isinf` that will perform the desired checks:"
      ]
    },
    {
      "cell_type": "code",
      "execution_count": null,
      "metadata": {
        "colab": {
          "base_uri": "https://localhost:8080/"
        },
        "id": "RO270ASHjmqL",
        "outputId": "8760c8b3-f296-4d3b-de94-4d0d5ca4541b"
      },
      "outputs": [
        {
          "output_type": "execute_result",
          "data": {
            "text/plain": [
              "np.True_"
            ]
          },
          "metadata": {},
          "execution_count": 24
        }
      ],
      "source": [
        "np.isnan(np.nan)"
      ]
    },
    {
      "cell_type": "code",
      "execution_count": null,
      "metadata": {
        "colab": {
          "base_uri": "https://localhost:8080/"
        },
        "id": "kf3ut9GojmqL",
        "outputId": "fac12d07-3dfb-4ffe-9cb6-8cefae1e8297"
      },
      "outputs": [
        {
          "output_type": "execute_result",
          "data": {
            "text/plain": [
              "np.True_"
            ]
          },
          "metadata": {},
          "execution_count": 25
        }
      ],
      "source": [
        "np.isinf(np.inf)"
      ]
    },
    {
      "cell_type": "markdown",
      "metadata": {
        "id": "_8URj3rZjmqL"
      },
      "source": [
        "And the joint operation can be performed with `np.isfinite`."
      ]
    },
    {
      "cell_type": "code",
      "execution_count": null,
      "metadata": {
        "colab": {
          "base_uri": "https://localhost:8080/"
        },
        "id": "CJet4s73jmqM",
        "outputId": "fa6be9c9-0c8d-4bc4-d036-c2c0e45d211f"
      },
      "outputs": [
        {
          "output_type": "execute_result",
          "data": {
            "text/plain": [
              "(np.False_, np.False_)"
            ]
          },
          "metadata": {},
          "execution_count": 26
        }
      ],
      "source": [
        "np.isfinite(np.nan), np.isfinite(np.inf)"
      ]
    },
    {
      "cell_type": "markdown",
      "metadata": {
        "id": "YN6zMs4qjmqM"
      },
      "source": [
        "`np.isnan` and `np.isinf` also take arrays as inputs, and return boolean arrays as results:"
      ]
    },
    {
      "cell_type": "code",
      "execution_count": null,
      "metadata": {
        "colab": {
          "base_uri": "https://localhost:8080/"
        },
        "id": "HFoUo9G2jmqM",
        "outputId": "95971d8c-f164-4f8d-a36c-5184c402081c"
      },
      "outputs": [
        {
          "output_type": "execute_result",
          "data": {
            "text/plain": [
              "array([False, False, False,  True, False, False])"
            ]
          },
          "metadata": {},
          "execution_count": 27
        }
      ],
      "source": [
        "np.isnan(np.array([1, 2, 3, np.nan, np.inf, 4]))"
      ]
    },
    {
      "cell_type": "code",
      "execution_count": null,
      "metadata": {
        "colab": {
          "base_uri": "https://localhost:8080/"
        },
        "id": "ZLwWxYHdjmqM",
        "outputId": "37479afa-b6a4-459c-9890-c969b0fd44ee"
      },
      "outputs": [
        {
          "output_type": "execute_result",
          "data": {
            "text/plain": [
              "array([False, False, False, False,  True, False])"
            ]
          },
          "metadata": {},
          "execution_count": 28
        }
      ],
      "source": [
        "np.isinf(np.array([1, 2, 3, np.nan, np.inf, 4]))"
      ]
    },
    {
      "cell_type": "code",
      "execution_count": null,
      "metadata": {
        "scrolled": true,
        "colab": {
          "base_uri": "https://localhost:8080/"
        },
        "id": "8w32y6ypjmqN",
        "outputId": "6e711b53-5858-4a79-a2f9-ebe99f8bd7b3"
      },
      "outputs": [
        {
          "output_type": "execute_result",
          "data": {
            "text/plain": [
              "array([ True,  True,  True, False, False,  True])"
            ]
          },
          "metadata": {},
          "execution_count": 29
        }
      ],
      "source": [
        "np.isfinite(np.array([1, 2, 3, np.nan, np.inf, 4]))"
      ]
    },
    {
      "cell_type": "markdown",
      "metadata": {
        "id": "4w8wEemxjmqN"
      },
      "source": [
        "_Note: It's not so common to find infinite values. From now on, we'll keep working with only `np.nan`_"
      ]
    },
    {
      "cell_type": "markdown",
      "metadata": {
        "id": "ja5DOPnqjmqN"
      },
      "source": [
        "![separator1](https://i.imgur.com/ZUWYTii.png)\n",
        "\n",
        "### Filtering them out\n",
        "\n",
        "Whenever you're trying to perform an operation with a Numpy array and you know there might be missing values, you'll need to filter them out before proceeding, to avoid `nan` propagation. We'll use a combination of the previous `np.isnan` + boolean arrays for this purpose:"
      ]
    },
    {
      "cell_type": "code",
      "execution_count": null,
      "metadata": {
        "id": "cEbRhkhujmqN"
      },
      "outputs": [],
      "source": [
        "a = np.array([1, 2, 3, np.nan, np.nan, 4])"
      ]
    },
    {
      "cell_type": "code",
      "execution_count": null,
      "metadata": {
        "colab": {
          "base_uri": "https://localhost:8080/"
        },
        "id": "sZlwqy45jmqN",
        "outputId": "14d3dacd-9d41-413e-db09-0794f14e078b"
      },
      "outputs": [
        {
          "output_type": "execute_result",
          "data": {
            "text/plain": [
              "array([1., 2., 3., 4.])"
            ]
          },
          "metadata": {},
          "execution_count": 31
        }
      ],
      "source": [
        "a[~np.isnan(a)]"
      ]
    },
    {
      "cell_type": "markdown",
      "metadata": {
        "id": "-_mlo49djmqN"
      },
      "source": [
        "Which is equivalent to:"
      ]
    },
    {
      "cell_type": "code",
      "execution_count": null,
      "metadata": {
        "colab": {
          "base_uri": "https://localhost:8080/"
        },
        "id": "ln4yrC3SjmqO",
        "outputId": "9ba32b35-7e5a-4034-9fa4-7a5dc0904385"
      },
      "outputs": [
        {
          "output_type": "execute_result",
          "data": {
            "text/plain": [
              "array([1., 2., 3., 4.])"
            ]
          },
          "metadata": {},
          "execution_count": 32
        }
      ],
      "source": [
        "a[np.isfinite(a)]"
      ]
    },
    {
      "cell_type": "markdown",
      "metadata": {
        "id": "yIVAQnu7jmqO"
      },
      "source": [
        "And with that result, all the operation can be now performed:"
      ]
    },
    {
      "cell_type": "code",
      "execution_count": null,
      "metadata": {
        "colab": {
          "base_uri": "https://localhost:8080/"
        },
        "id": "RxQT-DSPjmqO",
        "outputId": "da5720d9-4cda-4de7-ce63-f161d9e5411c"
      },
      "outputs": [
        {
          "output_type": "execute_result",
          "data": {
            "text/plain": [
              "np.float64(10.0)"
            ]
          },
          "metadata": {},
          "execution_count": 33
        }
      ],
      "source": [
        "a[np.isfinite(a)].sum()"
      ]
    },
    {
      "cell_type": "code",
      "execution_count": null,
      "metadata": {
        "scrolled": true,
        "colab": {
          "base_uri": "https://localhost:8080/"
        },
        "id": "6TId1nE6jmqO",
        "outputId": "951ab01e-7754-4a4c-fb6d-75546d4f5c6e"
      },
      "outputs": [
        {
          "output_type": "execute_result",
          "data": {
            "text/plain": [
              "np.float64(2.5)"
            ]
          },
          "metadata": {},
          "execution_count": 34
        }
      ],
      "source": [
        "a[np.isfinite(a)].mean()"
      ]
    },
    {
      "cell_type": "markdown",
      "metadata": {
        "id": "a6Ctm-qijmqO"
      },
      "source": [
        "![separator2](https://i.imgur.com/4gX5WFr.png)"
      ]
    }
  ],
  "metadata": {
    "kernelspec": {
      "display_name": "Python 3",
      "language": "python",
      "name": "python3"
    },
    "language_info": {
      "codemirror_mode": {
        "name": "ipython",
        "version": 3
      },
      "file_extension": ".py",
      "mimetype": "text/x-python",
      "name": "python",
      "nbconvert_exporter": "python",
      "pygments_lexer": "ipython3",
      "version": "3.8.1"
    },
    "colab": {
      "provenance": []
    }
  },
  "nbformat": 4,
  "nbformat_minor": 0
}