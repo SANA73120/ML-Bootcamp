{
  "cells": [
    {
      "cell_type": "markdown",
      "id": "protected-player",
      "metadata": {
        "id": "protected-player"
      },
      "source": [
        "# Logistic Regression with Scikit Learn - Machine Learning with Python"
      ]
    },
    {
      "cell_type": "markdown",
      "id": "fatty-titanium",
      "metadata": {
        "id": "fatty-titanium"
      },
      "source": [
        "## Problem Statement\n",
        "\n",
        "We'll learn how to apply _logistic regression_ to a real-world dataset from [Kaggle](https://kaggle.com/datasets):\n",
        "\n",
        "> **QUESTION**: The [Rain in Australia dataset](https://kaggle.com/jsphyg/weather-dataset-rattle-package) contains about 10 years of daily weather observations from numerous Australian weather stations. Here's a small sample from the dataset:\n",
        ">\n",
        "> ![](https://i.imgur.com/5QNJvir.png)\n",
        ">\n",
        "> As a data scientist at the Bureau of Meteorology, you are tasked with creating a fully-automated system that can use today's weather data for a given location to predict whether it will rain at the location tomorrow.\n",
        ">\n",
        ">\n",
        "> ![](https://i.imgur.com/KWfcpcO.png)\n",
        "\n",
        "\n",
        "**EXERCISE**: Before proceeding further, take a moment to think about how you can approach this problem. List five or more ideas that come to your mind below:\n",
        "\n",
        "1. ???\n",
        "2. ???\n",
        "3. ???\n",
        "4. ???\n",
        "5. ???"
      ]
    },
    {
      "cell_type": "markdown",
      "id": "prospective-monitor",
      "metadata": {
        "id": "prospective-monitor"
      },
      "source": [
        "## Linear Regression vs. Logistic Regression\n",
        "We'll use _logistic regression_, which is better suited for _classification_ problems like predicting whether it will rain tomorrow. Identifying whether a given problem is a _classfication_ or _regression_ problem is an important first step in machine learning.\n"
      ]
    },
    {
      "cell_type": "markdown",
      "id": "absolute-organ",
      "metadata": {
        "id": "absolute-organ"
      },
      "source": [
        "### Classification Problems\n",
        "\n",
        "\n",
        "Problems where each input must be assigned a discrete category (also called label or class) are known as _classification problems_.\n",
        "\n",
        "Here are some examples of classification problems:\n",
        "\n",
        "- [Rainfall prediction](https://kaggle.com/jsphyg/weather-dataset-rattle-package): Predicting whether it will rain tomorrow using today's weather data (classes are \"Will Rain\" and \"Will Not Rain\")\n",
        "- [Breast cancer detection](https://www.kaggle.com/uciml/breast-cancer-wisconsin-data): Predicting whether a tumor  is \"benign\" (noncancerous) or \"malignant\" (cancerous) using information like its radius, texture etc.\n",
        "- [Loan Repayment Prediction](https://www.kaggle.com/c/home-credit-default-risk) - Predicting whether applicants will repay a home loan based on factors like age, income, loan amount, no. of children etc.\n",
        "- [Handwritten Digit Recognition](https://www.kaggle.com/c/digit-recognizer) - Identifying which digit from 0 to 9 a picture of handwritten text represents.\n",
        "\n",
        "\n",
        "\n",
        "Classification problems can be binary (yes/no) or multiclass (picking one of many classes).\n"
      ]
    },
    {
      "cell_type": "markdown",
      "id": "prime-muscle",
      "metadata": {
        "id": "prime-muscle"
      },
      "source": [
        "### Regression Problems\n",
        "\n",
        "Problems where a continuous numeric value must be predicted for each input are known as _regression problems_.\n",
        "\n",
        "Here are some example of regression problems:\n",
        "\n",
        "- [Medical Charges Prediction](https://www.kaggle.com/subhakarks/medical-insurance-cost-analysis-and-prediction)\n",
        "- [House Price Prediction](https://www.kaggle.com/c/house-prices-advanced-regression-techniques)\n",
        "- [Ocean Temperature Prediction](https://www.kaggle.com/sohier/calcofi)\n",
        "- [Weather Temperature Prediction](https://www.kaggle.com/budincsevity/szeged-weather)\n",
        "\n",
        "Can you think of some more regression problems?\n"
      ]
    },
    {
      "cell_type": "markdown",
      "id": "photographic-saint",
      "metadata": {
        "id": "photographic-saint"
      },
      "source": [
        "### Linear Regression for Solving Regression Problems\n",
        "\n",
        "Linear regression is a commonly used technique for solving regression problems. In a linear regression model, the target is modeled as a linear combination (or weighted sum) of input features. The predictions from the model are evaluated using a loss function like the Root Mean Squared Error (RMSE).\n"
      ]
    },
    {
      "cell_type": "markdown",
      "id": "romance-airfare",
      "metadata": {
        "id": "romance-airfare"
      },
      "source": [
        "### Logistic Regression for Solving Classification Problems\n",
        "\n",
        "Logistic regression is a commonly used technique for solving binary classification problems. In a logistic regression model:\n",
        "\n",
        "- we take linear combination (or weighted sum of the input features)\n",
        "- we apply the sigmoid function to the result to obtain a number between 0 and 1\n",
        "- this number represents the probability of the input being classified as \"Yes\"\n",
        "- instead of RMSE, the cross entropy loss function is used to evaluate the results\n",
        "\n",
        "\n",
        "Here's a visual summary of how a logistic regression model is structured ([source](http://datahacker.rs/005-pytorch-logistic-regression-in-pytorch/)):\n",
        "\n",
        "\n",
        "The output of the sigmoid function is called a logistic, hence the name _logistic regression_. Logistic regression can also be applied to multi-class classification problems, with a few modifications.\n"
      ]
    },
    {
      "cell_type": "markdown",
      "id": "chronic-assembly",
      "metadata": {
        "id": "chronic-assembly"
      },
      "source": [
        "### Machine Learning Workflow\n",
        "\n",
        "Whether we're solving a regression problem using linear regression or a classification problem using logistic regression, the workflow for training a model is exactly the same:\n",
        "\n",
        "1. We initialize a model with random parameters (weights & biases).\n",
        "2. We pass some inputs into the model to obtain predictions.\n",
        "3. We compare the model's predictions with the actual targets using the loss function.  \n",
        "4. We use an optimization technique (like least squares, gradient descent etc.) to reduce the loss by adjusting the weights & biases of the model\n",
        "5. We repeat steps 1 to 4 till the predictions from the model are good enough.\n",
        "\n",
        "\n",
        "<img src=\"https://www.deepnetts.com/blog/wp-content/uploads/2019/02/SupervisedLearning.png\" width=\"480\">\n",
        "\n",
        "\n",
        "Classification and regression are both supervised machine learning problems, because they use labeled data. Machine learning applied to unlabeled data is known as unsupervised learning ([image source](https://au.mathworks.com/help/stats/machine-learning-in-matlab.html)).\n",
        "\n",
        "\n",
        "\n",
        "\n",
        "In this notebook, we'll train a _logistic regression_ model using the Rain in Australia dataset to predict whether or not it will rain at a location tomorrow, using today's data. This is a _binary classification_ problem.\n"
      ]
    },
    {
      "cell_type": "markdown",
      "id": "after-techno",
      "metadata": {
        "id": "after-techno"
      },
      "source": [
        "## Downloading the Data\n",
        "\n",
        "We'll use the [`opendatasets` library](https://github.com/JovianML/opendatasets) to download the data from Kaggle directly within Jupyter. Let's install and import `opendatasets`."
      ]
    },
    {
      "cell_type": "code",
      "execution_count": null,
      "id": "entertaining-organic",
      "metadata": {
        "id": "entertaining-organic"
      },
      "outputs": [],
      "source": [
        "!pip install opendatasets --upgrade --quiet"
      ]
    },
    {
      "cell_type": "code",
      "execution_count": null,
      "id": "understood-swiss",
      "metadata": {
        "id": "understood-swiss"
      },
      "outputs": [],
      "source": [
        "import opendatasets as od"
      ]
    },
    {
      "cell_type": "code",
      "execution_count": null,
      "id": "south-edinburgh",
      "metadata": {
        "id": "south-edinburgh"
      },
      "outputs": [],
      "source": [
        "od.version()"
      ]
    },
    {
      "cell_type": "markdown",
      "id": "extraordinary-brother",
      "metadata": {
        "id": "extraordinary-brother"
      },
      "source": [
        "The dataset can now be downloaded using `od.download`. When you execute `od.download`, you will be asked to provide your Kaggle username and API key. Follow these instructions to create an API key: http://bit.ly/kaggle-creds"
      ]
    },
    {
      "cell_type": "code",
      "execution_count": null,
      "id": "quality-valentine",
      "metadata": {
        "id": "quality-valentine"
      },
      "outputs": [],
      "source": [
        "dataset_url = 'https://www.kaggle.com/jsphyg/weather-dataset-rattle-package'"
      ]
    },
    {
      "cell_type": "code",
      "execution_count": null,
      "id": "answering-houston",
      "metadata": {
        "id": "answering-houston"
      },
      "outputs": [],
      "source": [
        "od.download(dataset_url)"
      ]
    },
    {
      "cell_type": "markdown",
      "id": "former-smart",
      "metadata": {
        "id": "former-smart"
      },
      "source": [
        "Once the above command is executed, the dataset is downloaded and extracted to the the directory `weather-dataset-rattle-package`."
      ]
    },
    {
      "cell_type": "code",
      "execution_count": null,
      "id": "royal-humanitarian",
      "metadata": {
        "id": "royal-humanitarian"
      },
      "outputs": [],
      "source": [
        "import os"
      ]
    },
    {
      "cell_type": "code",
      "execution_count": null,
      "id": "sophisticated-compromise",
      "metadata": {
        "id": "sophisticated-compromise"
      },
      "outputs": [],
      "source": [
        "data_dir = './weather-dataset-rattle-package'"
      ]
    },
    {
      "cell_type": "code",
      "execution_count": null,
      "id": "destroyed-wound",
      "metadata": {
        "id": "destroyed-wound"
      },
      "outputs": [],
      "source": [
        "os.listdir(data_dir)"
      ]
    },
    {
      "cell_type": "code",
      "execution_count": null,
      "id": "noble-ground",
      "metadata": {
        "id": "noble-ground"
      },
      "outputs": [],
      "source": [
        "train_csv = data_dir + '/weatherAUS.csv'"
      ]
    },
    {
      "cell_type": "markdown",
      "id": "moved-baltimore",
      "metadata": {
        "id": "moved-baltimore"
      },
      "source": [
        "\n",
        "Let's load the data from `weatherAUS.csv` using Pandas."
      ]
    },
    {
      "cell_type": "code",
      "execution_count": null,
      "id": "addressed-circulation",
      "metadata": {
        "id": "addressed-circulation"
      },
      "outputs": [],
      "source": [
        "import pandas as pd"
      ]
    },
    {
      "cell_type": "code",
      "execution_count": null,
      "id": "thermal-spirituality",
      "metadata": {
        "id": "thermal-spirituality"
      },
      "outputs": [],
      "source": [
        "raw_df = pd.read_csv(train_csv)"
      ]
    },
    {
      "cell_type": "code",
      "execution_count": null,
      "id": "reported-toyota",
      "metadata": {
        "id": "reported-toyota"
      },
      "outputs": [],
      "source": [
        "raw_df"
      ]
    },
    {
      "cell_type": "markdown",
      "id": "outer-salem",
      "metadata": {
        "id": "outer-salem"
      },
      "source": [
        "The dataset contains over 145,000 rows and 23 columns. The dataset contains date, numeric and categorical columns. Our objective is to create a model to predict the value in the column `RainTomorrow`.\n",
        "\n",
        "Let's check the data types and missing values in the various columns."
      ]
    },
    {
      "cell_type": "code",
      "execution_count": null,
      "id": "independent-liechtenstein",
      "metadata": {
        "id": "independent-liechtenstein"
      },
      "outputs": [],
      "source": [
        "raw_df.info()"
      ]
    },
    {
      "cell_type": "markdown",
      "id": "circular-jesus",
      "metadata": {
        "id": "circular-jesus"
      },
      "source": [
        "While we should be able to fill in missing values for most columns, it might be a good idea to discard the rows where the value of `RainTomorrow` or `RainToday` is missing to make our analysis and modeling simpler (since one of them is the target variable, and the other is likely to be very closely related to the target variable)."
      ]
    },
    {
      "cell_type": "code",
      "execution_count": null,
      "id": "bizarre-cambridge",
      "metadata": {
        "id": "bizarre-cambridge"
      },
      "outputs": [],
      "source": [
        "raw_df.dropna(subset=['RainToday', 'RainTomorrow'], inplace=True)"
      ]
    },
    {
      "cell_type": "markdown",
      "id": "guilty-crest",
      "metadata": {
        "id": "guilty-crest"
      },
      "source": [
        "How would you deal with the missing values in the other columns?\n"
      ]
    },
    {
      "cell_type": "markdown",
      "id": "dimensional-webcam",
      "metadata": {
        "id": "dimensional-webcam"
      },
      "source": [
        "## Exploratory Data Analysis and Visualization\n",
        "\n",
        "Before training a machine learning model, its always a good idea to explore the distributions of various columns and see how they are related to the target column. Let's explore and visualize the data using the Plotly, Matplotlib and Seaborn libraries."
      ]
    },
    {
      "cell_type": "code",
      "execution_count": null,
      "id": "professional-values",
      "metadata": {
        "id": "professional-values"
      },
      "outputs": [],
      "source": [
        "import plotly.express as px\n",
        "import matplotlib\n",
        "import matplotlib.pyplot as plt\n",
        "import seaborn as sns\n",
        "%matplotlib inline\n",
        "\n",
        "sns.set_style('darkgrid')\n",
        "matplotlib.rcParams['font.size'] = 14\n",
        "matplotlib.rcParams['figure.figsize'] = (10, 6)\n",
        "matplotlib.rcParams['figure.facecolor'] = '#00000000'"
      ]
    },
    {
      "cell_type": "code",
      "execution_count": null,
      "id": "greek-newton",
      "metadata": {
        "id": "greek-newton"
      },
      "outputs": [],
      "source": [
        "px.histogram(raw_df, x='Location', title='Location vs. Rainy Days', color='RainToday')"
      ]
    },
    {
      "cell_type": "code",
      "execution_count": null,
      "id": "chicken-compromise",
      "metadata": {
        "id": "chicken-compromise"
      },
      "outputs": [],
      "source": [
        "px.histogram(raw_df,\n",
        "             x='Temp3pm',\n",
        "             title='Temperature at 3 pm vs. Rain Tomorrow',\n",
        "             color='RainTomorrow')"
      ]
    },
    {
      "cell_type": "code",
      "execution_count": null,
      "id": "manufactured-watch",
      "metadata": {
        "id": "manufactured-watch"
      },
      "outputs": [],
      "source": [
        "px.histogram(raw_df,\n",
        "             x='RainTomorrow',\n",
        "             color='RainToday',\n",
        "             title='Rain Tomorrow vs. Rain Today')"
      ]
    },
    {
      "cell_type": "code",
      "execution_count": null,
      "id": "heated-expert",
      "metadata": {
        "id": "heated-expert"
      },
      "outputs": [],
      "source": [
        "px.scatter(raw_df.sample(2000),\n",
        "           title='Min Temp. vs Max Temp.',\n",
        "           x='MinTemp',\n",
        "           y='MaxTemp',\n",
        "           color='RainToday')"
      ]
    },
    {
      "cell_type": "code",
      "execution_count": null,
      "id": "authorized-capture",
      "metadata": {
        "id": "authorized-capture"
      },
      "outputs": [],
      "source": [
        "px.scatter(raw_df.sample(2000),\n",
        "           title='Temp (3 pm) vs. Humidity (3 pm)',\n",
        "           x='Temp3pm',\n",
        "           y='Humidity3pm',\n",
        "           color='RainTomorrow')"
      ]
    },
    {
      "cell_type": "markdown",
      "id": "logical-rugby",
      "metadata": {
        "id": "logical-rugby"
      },
      "source": [
        "What interpertations can you draw from the above charts?\n",
        "\n",
        "> **EXERCISE**: Visualize all the other columns of the dataset and study their relationship with the `RainToday` and `RainTomorrow` columns."
      ]
    },
    {
      "cell_type": "code",
      "execution_count": null,
      "id": "ultimate-blues",
      "metadata": {
        "id": "ultimate-blues"
      },
      "outputs": [],
      "source": []
    },
    {
      "cell_type": "code",
      "execution_count": null,
      "id": "periodic-vermont",
      "metadata": {
        "id": "periodic-vermont"
      },
      "outputs": [],
      "source": []
    },
    {
      "cell_type": "code",
      "execution_count": null,
      "id": "variable-robin",
      "metadata": {
        "id": "variable-robin"
      },
      "outputs": [],
      "source": []
    },
    {
      "cell_type": "markdown",
      "id": "measured-champion",
      "metadata": {
        "id": "measured-champion"
      },
      "source": [
        "## (Recommended) Working with a Sample\n",
        "\n",
        "When working with massive datasets containing millions of rows, it's a good idea to work with a sample initially, to quickly set up your model training notebook. If you'd like to work with a sample, just set the value of `use_sample` to `True`."
      ]
    },
    {
      "cell_type": "code",
      "execution_count": null,
      "id": "polyphonic-student",
      "metadata": {
        "id": "polyphonic-student"
      },
      "outputs": [],
      "source": [
        "use_sample = False"
      ]
    },
    {
      "cell_type": "code",
      "execution_count": null,
      "id": "departmental-malpractice",
      "metadata": {
        "id": "departmental-malpractice"
      },
      "outputs": [],
      "source": [
        "sample_fraction = 0.1"
      ]
    },
    {
      "cell_type": "code",
      "execution_count": null,
      "id": "bronze-material",
      "metadata": {
        "id": "bronze-material"
      },
      "outputs": [],
      "source": [
        "if use_sample:\n",
        "    raw_df = raw_df.sample(frac=sample_fraction).copy()"
      ]
    },
    {
      "cell_type": "markdown",
      "id": "composite-philosophy",
      "metadata": {
        "id": "composite-philosophy"
      },
      "source": [
        "Make sure to set `use_sample` to `False` and re-run the notebook end-to-end once you're ready to use the entire dataset."
      ]
    },
    {
      "cell_type": "markdown",
      "id": "improved-cricket",
      "metadata": {
        "id": "improved-cricket"
      },
      "source": [
        "## Training, Validation and Test Sets\n",
        "\n",
        "While building real-world machine learning models, it is quite common to split the dataset into three parts:\n",
        "\n",
        "1. **Training set** - used to train the model, i.e., compute the loss and adjust the model's weights using an optimization technique.\n",
        "\n",
        "\n",
        "2. **Validation set** - used to evaluate the model during training, tune model hyperparameters (optimization technique, regularization etc.), and pick the best version of the model. Picking a good validation set is essential for training models that generalize well. [Learn more here.](https://www.fast.ai/2017/11/13/validation-sets/)\n",
        "\n",
        "\n",
        "3. **Test set** - used to compare different models or approaches and report the model's final accuracy. For many datasets, test sets are provided separately. The test set should reflect the kind of data the model will encounter in the real-world, as closely as feasible.\n",
        "\n",
        "\n",
        "\n",
        "As a general rule of thumb you can use around 60% of the data for the training set, 20% for the validation set and 20% for the test set. If a separate test set is already provided, you can use a 75%-25% training-validation split.\n",
        "\n",
        "\n",
        "When rows in the dataset have no inherent order, it's common practice to pick random subsets of rows for creating test and validation sets. This can be done using the `train_test_split` utility from `scikit-learn`."
      ]
    },
    {
      "cell_type": "code",
      "execution_count": null,
      "id": "three-count",
      "metadata": {
        "id": "three-count"
      },
      "outputs": [],
      "source": [
        "from sklearn.model_selection import train_test_split"
      ]
    },
    {
      "cell_type": "code",
      "execution_count": null,
      "id": "excited-bottom",
      "metadata": {
        "id": "excited-bottom"
      },
      "outputs": [],
      "source": [
        "train_val_df, test_df = train_test_split(raw_df, test_size=0.2, random_state=42)\n",
        "train_df, val_df = train_test_split(train_val_df, test_size=0.25, random_state=42)"
      ]
    },
    {
      "cell_type": "code",
      "execution_count": null,
      "id": "unlike-solid",
      "metadata": {
        "id": "unlike-solid"
      },
      "outputs": [],
      "source": [
        "print('train_df.shape :', train_df.shape)\n",
        "print('val_df.shape :', val_df.shape)\n",
        "print('test_df.shape :', test_df.shape)"
      ]
    },
    {
      "cell_type": "markdown",
      "id": "answering-vitamin",
      "metadata": {
        "id": "answering-vitamin"
      },
      "source": [
        "However, while working with dates, it's often a better idea to separate the training, validation and test sets with time, so that the model is trained on data from the past and evaluated on data from the future.\n",
        "\n",
        "For the current dataset, we can use the Date column in the dataset to create another column for year. We'll pick the last two years for the test set, and one year before it for the validation set."
      ]
    },
    {
      "cell_type": "code",
      "execution_count": null,
      "id": "residential-works",
      "metadata": {
        "id": "residential-works"
      },
      "outputs": [],
      "source": [
        "plt.title('No. of Rows per Year')\n",
        "sns.countplot(x=pd.to_datetime(raw_df.Date).dt.year);"
      ]
    },
    {
      "cell_type": "code",
      "execution_count": null,
      "id": "olive-lightning",
      "metadata": {
        "id": "olive-lightning"
      },
      "outputs": [],
      "source": [
        "year = pd.to_datetime(raw_df.Date).dt.year\n",
        "\n",
        "train_df = raw_df[year < 2015]\n",
        "val_df = raw_df[year == 2015]\n",
        "test_df = raw_df[year > 2015]"
      ]
    },
    {
      "cell_type": "code",
      "execution_count": null,
      "id": "expected-antibody",
      "metadata": {
        "id": "expected-antibody"
      },
      "outputs": [],
      "source": [
        "print('train_df.shape :', train_df.shape)\n",
        "print('val_df.shape :', val_df.shape)\n",
        "print('test_df.shape :', test_df.shape)"
      ]
    },
    {
      "cell_type": "markdown",
      "id": "subsequent-structure",
      "metadata": {
        "id": "subsequent-structure"
      },
      "source": [
        "While not a perfect 60-20-20 split, we have ensured that the test validation and test sets both contain data for all 12 months of the year."
      ]
    },
    {
      "cell_type": "code",
      "execution_count": null,
      "id": "purple-agenda",
      "metadata": {
        "id": "purple-agenda"
      },
      "outputs": [],
      "source": [
        "train_df"
      ]
    },
    {
      "cell_type": "code",
      "execution_count": null,
      "id": "wound-flour",
      "metadata": {
        "id": "wound-flour"
      },
      "outputs": [],
      "source": [
        "val_df"
      ]
    },
    {
      "cell_type": "code",
      "execution_count": null,
      "id": "stylish-amino",
      "metadata": {
        "id": "stylish-amino"
      },
      "outputs": [],
      "source": [
        "test_df"
      ]
    },
    {
      "cell_type": "markdown",
      "id": "burning-agency",
      "metadata": {
        "id": "burning-agency"
      },
      "source": [
        "## Identifying Input and Target Columns\n",
        "\n",
        "Often, not all the columns in a dataset are useful for training a model. In the current dataset, we can ignore the `Date` column, since we only want to know weather conditions to make a prediction about whether it will rain the next day.\n",
        "\n",
        "Let's create a list of input columns, and also identify the target column."
      ]
    },
    {
      "cell_type": "code",
      "execution_count": null,
      "id": "straight-marks",
      "metadata": {
        "id": "straight-marks"
      },
      "outputs": [],
      "source": [
        "input_cols = list(train_df.columns)[1:-1]\n",
        "target_col = 'RainTomorrow'"
      ]
    },
    {
      "cell_type": "code",
      "execution_count": null,
      "id": "downtown-dimension",
      "metadata": {
        "id": "downtown-dimension"
      },
      "outputs": [],
      "source": [
        "print(input_cols)"
      ]
    },
    {
      "cell_type": "code",
      "execution_count": null,
      "id": "structured-centre",
      "metadata": {
        "id": "structured-centre"
      },
      "outputs": [],
      "source": [
        "target_col"
      ]
    },
    {
      "cell_type": "markdown",
      "id": "respiratory-sudan",
      "metadata": {
        "id": "respiratory-sudan"
      },
      "source": [
        "We can now create inputs and targets for the training, validation and test sets for further processing and model training."
      ]
    },
    {
      "cell_type": "code",
      "execution_count": null,
      "id": "judicial-cloud",
      "metadata": {
        "id": "judicial-cloud"
      },
      "outputs": [],
      "source": [
        "train_inputs = train_df[input_cols].copy()\n",
        "train_targets = train_df[target_col].copy()"
      ]
    },
    {
      "cell_type": "code",
      "execution_count": null,
      "id": "working-warren",
      "metadata": {
        "id": "working-warren"
      },
      "outputs": [],
      "source": [
        "val_inputs = val_df[input_cols].copy()\n",
        "val_targets = val_df[target_col].copy()"
      ]
    },
    {
      "cell_type": "code",
      "execution_count": null,
      "id": "following-attention",
      "metadata": {
        "id": "following-attention"
      },
      "outputs": [],
      "source": [
        "test_inputs = test_df[input_cols].copy()\n",
        "test_targets = test_df[target_col].copy()"
      ]
    },
    {
      "cell_type": "code",
      "execution_count": null,
      "id": "alike-china",
      "metadata": {
        "id": "alike-china"
      },
      "outputs": [],
      "source": [
        "train_inputs"
      ]
    },
    {
      "cell_type": "code",
      "execution_count": null,
      "id": "variable-apache",
      "metadata": {
        "id": "variable-apache"
      },
      "outputs": [],
      "source": [
        "train_targets"
      ]
    },
    {
      "cell_type": "markdown",
      "id": "persistent-hybrid",
      "metadata": {
        "id": "persistent-hybrid"
      },
      "source": [
        "Let's also identify which of the columns are numerical and which ones are categorical. This will be useful later, as we'll need to convert the categorical data to numbers for training a logistic regression model."
      ]
    },
    {
      "cell_type": "code",
      "execution_count": null,
      "id": "chief-maximum",
      "metadata": {
        "id": "chief-maximum"
      },
      "outputs": [],
      "source": [
        "import numpy as np"
      ]
    },
    {
      "cell_type": "code",
      "execution_count": null,
      "id": "rational-dynamics",
      "metadata": {
        "id": "rational-dynamics"
      },
      "outputs": [],
      "source": [
        "numeric_cols = train_inputs.select_dtypes(include=np.number).columns.tolist()\n",
        "categorical_cols = train_inputs.select_dtypes('object').columns.tolist()"
      ]
    },
    {
      "cell_type": "markdown",
      "id": "devoted-butler",
      "metadata": {
        "id": "devoted-butler"
      },
      "source": [
        "Let's view some statistics for the numeric columns."
      ]
    },
    {
      "cell_type": "code",
      "execution_count": null,
      "id": "understood-customs",
      "metadata": {
        "id": "understood-customs"
      },
      "outputs": [],
      "source": [
        "train_inputs[numeric_cols].describe()"
      ]
    },
    {
      "cell_type": "markdown",
      "id": "portuguese-substance",
      "metadata": {
        "id": "portuguese-substance"
      },
      "source": [
        "Do the ranges of the numeric columns seem reasonable? If not, we may have to do some data cleaning as well.\n",
        "\n",
        "Let's also check the number of categories in each of the categorical columns."
      ]
    },
    {
      "cell_type": "code",
      "execution_count": null,
      "id": "violent-national",
      "metadata": {
        "id": "violent-national"
      },
      "outputs": [],
      "source": [
        "train_inputs[categorical_cols].nunique()"
      ]
    },
    {
      "cell_type": "markdown",
      "id": "employed-highland",
      "metadata": {
        "id": "employed-highland"
      },
      "source": [
        "## Imputing Missing Numeric Data\n",
        "\n",
        "Machine learning models can't work with missing numerical data. The process of filling missing values is called imputation.\n",
        "\n",
        "\n",
        "There are several techniques for imputation, but we'll use the most basic one: replacing missing values with the average value in the column using the `SimpleImputer` class from `sklearn.impute`."
      ]
    },
    {
      "cell_type": "code",
      "execution_count": null,
      "id": "official-cinema",
      "metadata": {
        "id": "official-cinema"
      },
      "outputs": [],
      "source": [
        "from sklearn.impute import SimpleImputer"
      ]
    },
    {
      "cell_type": "code",
      "execution_count": null,
      "id": "loving-comparison",
      "metadata": {
        "id": "loving-comparison"
      },
      "outputs": [],
      "source": [
        "imputer = SimpleImputer(strategy = 'mean')"
      ]
    },
    {
      "cell_type": "markdown",
      "id": "metric-composition",
      "metadata": {
        "id": "metric-composition"
      },
      "source": [
        "Before we perform imputation, let's check the no. of missing values in each numeric column."
      ]
    },
    {
      "cell_type": "code",
      "execution_count": null,
      "id": "indie-revelation",
      "metadata": {
        "id": "indie-revelation"
      },
      "outputs": [],
      "source": [
        "raw_df[numeric_cols].isna().sum()"
      ]
    },
    {
      "cell_type": "markdown",
      "id": "royal-reporter",
      "metadata": {
        "id": "royal-reporter"
      },
      "source": [
        "These values are spread across the training, test and validation sets. You can also check the no. of missing values individually for `train_inputs`, `val_inputs` and `test_inputs`."
      ]
    },
    {
      "cell_type": "code",
      "execution_count": null,
      "id": "subsequent-columbia",
      "metadata": {
        "id": "subsequent-columbia"
      },
      "outputs": [],
      "source": [
        "train_inputs[numeric_cols].isna().sum()"
      ]
    },
    {
      "cell_type": "markdown",
      "id": "approximate-municipality",
      "metadata": {
        "id": "approximate-municipality"
      },
      "source": [
        "The first step in imputation is to `fit` the imputer to the data i.e. compute the chosen statistic (e.g. mean) for each column in the dataset."
      ]
    },
    {
      "cell_type": "code",
      "execution_count": null,
      "id": "nutritional-university",
      "metadata": {
        "id": "nutritional-university"
      },
      "outputs": [],
      "source": [
        "imputer.fit(raw_df[numeric_cols])"
      ]
    },
    {
      "cell_type": "markdown",
      "id": "alpine-opening",
      "metadata": {
        "id": "alpine-opening"
      },
      "source": [
        "After calling `fit`, the computed statistic for each column is stored in the `statistics_` property of `imputer`."
      ]
    },
    {
      "cell_type": "code",
      "execution_count": null,
      "id": "private-secret",
      "metadata": {
        "id": "private-secret"
      },
      "outputs": [],
      "source": [
        "list(imputer.statistics_)"
      ]
    },
    {
      "cell_type": "markdown",
      "id": "thousand-edmonton",
      "metadata": {
        "id": "thousand-edmonton"
      },
      "source": [
        "The missing values in the training, test and validation sets can now be filled in using the `transform` method of `imputer`."
      ]
    },
    {
      "cell_type": "code",
      "execution_count": null,
      "id": "cleared-solution",
      "metadata": {
        "id": "cleared-solution"
      },
      "outputs": [],
      "source": [
        "train_inputs[numeric_cols] = imputer.transform(train_inputs[numeric_cols])\n",
        "val_inputs[numeric_cols] = imputer.transform(val_inputs[numeric_cols])\n",
        "test_inputs[numeric_cols] = imputer.transform(test_inputs[numeric_cols])"
      ]
    },
    {
      "cell_type": "markdown",
      "id": "sacred-tulsa",
      "metadata": {
        "id": "sacred-tulsa"
      },
      "source": [
        "The missing values are now filled in with the mean of each column."
      ]
    },
    {
      "cell_type": "code",
      "execution_count": null,
      "id": "northern-friendly",
      "metadata": {
        "id": "northern-friendly"
      },
      "outputs": [],
      "source": [
        "train_inputs[numeric_cols].isna().sum()"
      ]
    },
    {
      "cell_type": "markdown",
      "id": "incident-thompson",
      "metadata": {
        "id": "incident-thompson"
      },
      "source": [
        "> **EXERCISE**: Apply some other imputation techniques and observe how they change the results of the model. You can learn more about other imputation techniques here: https://scikit-learn.org/stable/modules/impute.html"
      ]
    },
    {
      "cell_type": "markdown",
      "id": "reduced-niger",
      "metadata": {
        "id": "reduced-niger"
      },
      "source": [
        "## Scaling Numeric Features\n",
        "\n",
        "Another good practice is to scale numeric features to a small range of values e.g. $(0,1)$ or $(-1,1)$. Scaling numeric features ensures that no particular feature has a disproportionate impact on the model's loss. Optimization algorithms also work better in practice with smaller numbers.\n",
        "\n",
        "The numeric columns in our dataset have varying ranges."
      ]
    },
    {
      "cell_type": "code",
      "execution_count": null,
      "id": "broken-chancellor",
      "metadata": {
        "id": "broken-chancellor"
      },
      "outputs": [],
      "source": [
        "raw_df[numeric_cols].describe()"
      ]
    },
    {
      "cell_type": "markdown",
      "id": "appreciated-brief",
      "metadata": {
        "id": "appreciated-brief"
      },
      "source": [
        "Let's use `MinMaxScaler` from `sklearn.preprocessing` to scale values to the $(0,1)$ range."
      ]
    },
    {
      "cell_type": "code",
      "execution_count": null,
      "id": "persistent-december",
      "metadata": {
        "id": "persistent-december"
      },
      "outputs": [],
      "source": [
        "from sklearn.preprocessing import MinMaxScaler"
      ]
    },
    {
      "cell_type": "code",
      "execution_count": null,
      "id": "established-public",
      "metadata": {
        "id": "established-public"
      },
      "outputs": [],
      "source": [
        "?MinMaxScaler"
      ]
    },
    {
      "cell_type": "code",
      "execution_count": null,
      "id": "daily-horse",
      "metadata": {
        "id": "daily-horse"
      },
      "outputs": [],
      "source": [
        "scaler = MinMaxScaler()"
      ]
    },
    {
      "cell_type": "markdown",
      "id": "satellite-ecology",
      "metadata": {
        "id": "satellite-ecology"
      },
      "source": [
        "First, we `fit` the scaler to the data i.e. compute the range of values for each numeric column."
      ]
    },
    {
      "cell_type": "code",
      "execution_count": null,
      "id": "healthy-attention",
      "metadata": {
        "id": "healthy-attention"
      },
      "outputs": [],
      "source": [
        "scaler.fit(raw_df[numeric_cols])"
      ]
    },
    {
      "cell_type": "markdown",
      "id": "conservative-brooks",
      "metadata": {
        "id": "conservative-brooks"
      },
      "source": [
        "We can now inspect the minimum and maximum values in each column."
      ]
    },
    {
      "cell_type": "code",
      "execution_count": null,
      "id": "atlantic-scholarship",
      "metadata": {
        "id": "atlantic-scholarship"
      },
      "outputs": [],
      "source": [
        "print('Minimum:')\n",
        "list(scaler.data_min_)"
      ]
    },
    {
      "cell_type": "code",
      "execution_count": null,
      "id": "champion-imaging",
      "metadata": {
        "id": "champion-imaging"
      },
      "outputs": [],
      "source": [
        "print('Maximum:')\n",
        "list(scaler.data_max_)"
      ]
    },
    {
      "cell_type": "markdown",
      "id": "double-category",
      "metadata": {
        "id": "double-category"
      },
      "source": [
        "We can now separately scale the training, validation and test sets using the `transform` method of `scaler`."
      ]
    },
    {
      "cell_type": "code",
      "execution_count": null,
      "id": "rocky-portfolio",
      "metadata": {
        "id": "rocky-portfolio"
      },
      "outputs": [],
      "source": [
        "train_inputs[numeric_cols] = scaler.transform(train_inputs[numeric_cols])\n",
        "val_inputs[numeric_cols] = scaler.transform(val_inputs[numeric_cols])\n",
        "test_inputs[numeric_cols] = scaler.transform(test_inputs[numeric_cols])"
      ]
    },
    {
      "cell_type": "markdown",
      "id": "million-freeware",
      "metadata": {
        "id": "million-freeware"
      },
      "source": [
        "We can now verify that values in each column lie in the range $(0,1)$"
      ]
    },
    {
      "cell_type": "code",
      "execution_count": null,
      "id": "asian-relay",
      "metadata": {
        "id": "asian-relay"
      },
      "outputs": [],
      "source": [
        "train_inputs[numeric_cols].describe()"
      ]
    },
    {
      "cell_type": "markdown",
      "id": "adopted-grave",
      "metadata": {
        "id": "adopted-grave"
      },
      "source": [
        "Learn more about scaling techniques here: https://machinelearningmastery.com/standardscaler-and-minmaxscaler-transforms-in-python/"
      ]
    },
    {
      "cell_type": "markdown",
      "id": "naked-porter",
      "metadata": {
        "id": "naked-porter"
      },
      "source": [
        "## Encoding Categorical Data\n",
        "\n",
        "Since machine learning models can only be trained with numeric data, we need to convert categorical data to numbers. A common technique is to use one-hot encoding for categorical columns.\n",
        "\n",
        "\n",
        "One hot encoding involves adding a new binary (0/1) column for each unique category of a categorical column."
      ]
    },
    {
      "cell_type": "code",
      "execution_count": null,
      "id": "demographic-bolivia",
      "metadata": {
        "id": "demographic-bolivia"
      },
      "outputs": [],
      "source": [
        "raw_df[categorical_cols].nunique()"
      ]
    },
    {
      "cell_type": "markdown",
      "id": "outer-thriller",
      "metadata": {
        "id": "outer-thriller"
      },
      "source": [
        "We can perform one hot encoding using the `OneHotEncoder` class from `sklearn.preprocessing`."
      ]
    },
    {
      "cell_type": "code",
      "execution_count": null,
      "id": "phantom-gateway",
      "metadata": {
        "id": "phantom-gateway"
      },
      "outputs": [],
      "source": [
        "from sklearn.preprocessing import OneHotEncoder"
      ]
    },
    {
      "cell_type": "code",
      "execution_count": null,
      "id": "juvenile-cooperative",
      "metadata": {
        "id": "juvenile-cooperative"
      },
      "outputs": [],
      "source": [
        "?OneHotEncoder"
      ]
    },
    {
      "cell_type": "code",
      "execution_count": null,
      "id": "sufficient-powell",
      "metadata": {
        "id": "sufficient-powell"
      },
      "outputs": [],
      "source": [
        "encoder = OneHotEncoder(handle_unknown='ignore')"
      ]
    },
    {
      "cell_type": "markdown",
      "id": "competent-facial",
      "metadata": {
        "id": "competent-facial"
      },
      "source": [
        "First, we `fit` the encoder to the data i.e. identify the full list of categories across all categorical columns."
      ]
    },
    {
      "cell_type": "code",
      "execution_count": null,
      "id": "registered-fields",
      "metadata": {
        "id": "registered-fields"
      },
      "outputs": [],
      "source": [
        "encoder.fit(raw_df[categorical_cols])"
      ]
    },
    {
      "cell_type": "code",
      "execution_count": null,
      "id": "considerable-bicycle",
      "metadata": {
        "id": "considerable-bicycle"
      },
      "outputs": [],
      "source": [
        "encoder.categories_"
      ]
    },
    {
      "cell_type": "markdown",
      "id": "concerned-price",
      "metadata": {
        "id": "concerned-price"
      },
      "source": [
        "The encoder has created a list of categories for each of the categorical columns in the dataset.\n",
        "\n",
        "We can generate column names for each individual category using `get_feature_names`."
      ]
    },
    {
      "cell_type": "code",
      "execution_count": null,
      "id": "rental-brooks",
      "metadata": {
        "id": "rental-brooks"
      },
      "outputs": [],
      "source": [
        "encoded_cols = list(encoder.get_feature_names_out(categorical_cols))\n",
        "print(encoded_cols)"
      ]
    },
    {
      "cell_type": "markdown",
      "id": "indirect-morocco",
      "metadata": {
        "id": "indirect-morocco"
      },
      "source": [
        "All of the above columns will be added to `train_inputs`, `val_inputs` and `test_inputs`.\n",
        "\n",
        "To perform the encoding, we use the `transform` method of `encoder`."
      ]
    },
    {
      "cell_type": "code",
      "execution_count": null,
      "id": "dutch-northern",
      "metadata": {
        "id": "dutch-northern"
      },
      "outputs": [],
      "source": []
    },
    {
      "cell_type": "code",
      "execution_count": null,
      "metadata": {
        "id": "0T6vsVNGP0tk"
      },
      "outputs": [],
      "source": [
        "train_encoded_df = pd.DataFrame(encoder.transform(train_inputs[categorical_cols]).toarray(), columns=encoded_cols, index=train_inputs.index)\n",
        "val_encoded_df = pd.DataFrame(encoder.transform(val_inputs[categorical_cols]).toarray(), columns=encoded_cols, index=val_inputs.index)\n",
        "test_encoded_df = pd.DataFrame(encoder.transform(test_inputs[categorical_cols]).toarray(), columns=encoded_cols, index=test_inputs.index)\n",
        "\n",
        "train_inputs = pd.concat([train_inputs[numeric_cols], train_encoded_df], axis=1)\n",
        "val_inputs = pd.concat([val_inputs[numeric_cols], val_encoded_df], axis=1)\n",
        "test_inputs = pd.concat([test_inputs[numeric_cols], test_encoded_df], axis=1)"
      ],
      "id": "0T6vsVNGP0tk"
    },
    {
      "cell_type": "markdown",
      "id": "flexible-slide",
      "metadata": {
        "id": "flexible-slide"
      },
      "source": [
        "We can verify that these new columns have been added to our training, test and validation sets."
      ]
    },
    {
      "cell_type": "code",
      "execution_count": null,
      "id": "furnished-joseph",
      "metadata": {
        "id": "furnished-joseph"
      },
      "outputs": [],
      "source": [
        "pd.set_option('display.max_columns', None)"
      ]
    },
    {
      "cell_type": "code",
      "execution_count": null,
      "id": "governmental-damage",
      "metadata": {
        "id": "governmental-damage"
      },
      "outputs": [],
      "source": [
        "test_inputs"
      ]
    },
    {
      "cell_type": "markdown",
      "id": "twelve-passenger",
      "metadata": {
        "id": "twelve-passenger"
      },
      "source": [
        "## Saving Processed Data to Disk\n",
        "\n",
        "It can be useful to save processed data to disk, especially for really large datasets, to avoid repeating the preprocessing steps every time you start the Jupyter notebook. The parquet format is a fast and efficient format for saving and loading Pandas dataframes."
      ]
    },
    {
      "cell_type": "code",
      "execution_count": null,
      "id": "indirect-interim",
      "metadata": {
        "id": "indirect-interim"
      },
      "outputs": [],
      "source": [
        "print('train_inputs:', train_inputs.shape)\n",
        "print('train_targets:', train_targets.shape)\n",
        "print('val_inputs:', val_inputs.shape)\n",
        "print('val_targets:', val_targets.shape)\n",
        "print('test_inputs:', test_inputs.shape)\n",
        "print('test_targets:', test_targets.shape)"
      ]
    },
    {
      "cell_type": "code",
      "execution_count": null,
      "id": "occasional-thong",
      "metadata": {
        "id": "occasional-thong"
      },
      "outputs": [],
      "source": [
        "train_inputs.to_parquet('train_inputs.parquet')\n",
        "val_inputs.to_parquet('val_inputs.parquet')\n",
        "test_inputs.to_parquet('test_inputs.parquet')"
      ]
    },
    {
      "cell_type": "code",
      "execution_count": null,
      "id": "failing-disclaimer",
      "metadata": {
        "id": "failing-disclaimer"
      },
      "outputs": [],
      "source": [
        "%%time\n",
        "pd.DataFrame(train_targets).to_parquet('train_targets.parquet')\n",
        "pd.DataFrame(val_targets).to_parquet('val_targets.parquet')\n",
        "pd.DataFrame(test_targets).to_parquet('test_targets.parquet')"
      ]
    },
    {
      "cell_type": "markdown",
      "id": "present-bunch",
      "metadata": {
        "id": "present-bunch"
      },
      "source": [
        "We can read the data back using `pd.read_parquet`."
      ]
    },
    {
      "cell_type": "code",
      "execution_count": null,
      "id": "adult-discovery",
      "metadata": {
        "id": "adult-discovery"
      },
      "outputs": [],
      "source": [
        "%%time\n",
        "\n",
        "train_inputs = pd.read_parquet('train_inputs.parquet')\n",
        "val_inputs = pd.read_parquet('val_inputs.parquet')\n",
        "test_inputs = pd.read_parquet('test_inputs.parquet')\n",
        "\n",
        "train_targets = pd.read_parquet('train_targets.parquet')[target_col]\n",
        "val_targets = pd.read_parquet('val_targets.parquet')[target_col]\n",
        "test_targets = pd.read_parquet('test_targets.parquet')[target_col]"
      ]
    },
    {
      "cell_type": "markdown",
      "id": "vocational-elite",
      "metadata": {
        "id": "vocational-elite"
      },
      "source": [
        "Let's verify that the data was loaded properly."
      ]
    },
    {
      "cell_type": "code",
      "execution_count": null,
      "id": "massive-right",
      "metadata": {
        "id": "massive-right"
      },
      "outputs": [],
      "source": [
        "print('train_inputs:', train_inputs.shape)\n",
        "print('train_targets:', train_targets.shape)\n",
        "print('val_inputs:', val_inputs.shape)\n",
        "print('val_targets:', val_targets.shape)\n",
        "print('test_inputs:', test_inputs.shape)\n",
        "print('test_targets:', test_targets.shape)"
      ]
    },
    {
      "cell_type": "code",
      "execution_count": null,
      "id": "pleased-delight",
      "metadata": {
        "id": "pleased-delight"
      },
      "outputs": [],
      "source": [
        "val_inputs"
      ]
    },
    {
      "cell_type": "code",
      "execution_count": null,
      "id": "opposite-arizona",
      "metadata": {
        "id": "opposite-arizona"
      },
      "outputs": [],
      "source": [
        "val_targets"
      ]
    },
    {
      "cell_type": "markdown",
      "id": "million-space",
      "metadata": {
        "id": "million-space"
      },
      "source": [
        "## Training a Logistic Regression Model\n",
        "\n",
        "Logistic regression is a commonly used technique for solving binary classification problems. In a logistic regression model:\n",
        "\n",
        "- we take linear combination (or weighted sum of the input features)\n",
        "- we apply the sigmoid function to the result to obtain a number between 0 and 1\n",
        "- this number represents the probability of the input being classified as \"Yes\"\n",
        "- instead of RMSE, the cross entropy loss function is used to evaluate the results\n",
        "\n",
        "\n",
        "Here's a visual summary of how a logistic regression model is structured ([source](http://datahacker.rs/005-pytorch-logistic-regression-in-pytorch/)):\n",
        "\n",
        "\n",
        "To train a logistic regression model, we can use the `LogisticRegression` class from Scikit-learn."
      ]
    },
    {
      "cell_type": "code",
      "execution_count": null,
      "id": "judicial-airfare",
      "metadata": {
        "id": "judicial-airfare"
      },
      "outputs": [],
      "source": [
        "from sklearn.linear_model import LogisticRegression"
      ]
    },
    {
      "cell_type": "code",
      "execution_count": null,
      "id": "brave-congress",
      "metadata": {
        "id": "brave-congress"
      },
      "outputs": [],
      "source": [
        "?LogisticRegression"
      ]
    },
    {
      "cell_type": "code",
      "execution_count": null,
      "id": "dominican-greeting",
      "metadata": {
        "id": "dominican-greeting"
      },
      "outputs": [],
      "source": [
        "model = LogisticRegression(solver='liblinear')"
      ]
    },
    {
      "cell_type": "markdown",
      "id": "cutting-exercise",
      "metadata": {
        "id": "cutting-exercise"
      },
      "source": [
        "We can train the model using `model.fit`."
      ]
    },
    {
      "cell_type": "code",
      "execution_count": null,
      "id": "adverse-platform",
      "metadata": {
        "id": "adverse-platform"
      },
      "outputs": [],
      "source": [
        "model.fit(train_inputs[numeric_cols + encoded_cols], train_targets)"
      ]
    },
    {
      "cell_type": "markdown",
      "id": "standard-crime",
      "metadata": {
        "id": "standard-crime"
      },
      "source": [
        "`model.fit` uses the following workflow for training the model ([source](https://www.deepnetts.com/blog/from-basic-machine-learning-to-deep-learning-in-5-minutes.html)):\n",
        "\n",
        "1. We initialize a model with random parameters (weights & biases).\n",
        "2. We pass some inputs into the model to obtain predictions.\n",
        "3. We compare the model's predictions with the actual targets using the loss function.  \n",
        "4. We use an optimization technique (like least squares, gradient descent etc.) to reduce the loss by adjusting the weights & biases of the model\n",
        "5. We repeat steps 1 to 4 till the predictions from the model are good enough.\n",
        "\n",
        "\n",
        "<img src=\"https://www.deepnetts.com/blog/wp-content/uploads/2019/02/SupervisedLearning.png\" width=\"480\">\n",
        "\n"
      ]
    },
    {
      "cell_type": "markdown",
      "id": "legislative-correspondence",
      "metadata": {
        "id": "legislative-correspondence"
      },
      "source": [
        "Let's check the weights and biases of the trained model."
      ]
    },
    {
      "cell_type": "code",
      "execution_count": null,
      "id": "arbitrary-offer",
      "metadata": {
        "id": "arbitrary-offer"
      },
      "outputs": [],
      "source": [
        "print(numeric_cols + encoded_cols)"
      ]
    },
    {
      "cell_type": "code",
      "execution_count": null,
      "id": "angry-diary",
      "metadata": {
        "id": "angry-diary"
      },
      "outputs": [],
      "source": [
        "print(model.coef_.tolist())"
      ]
    },
    {
      "cell_type": "code",
      "execution_count": null,
      "id": "brave-corporation",
      "metadata": {
        "id": "brave-corporation"
      },
      "outputs": [],
      "source": [
        "print(model.intercept_)"
      ]
    },
    {
      "cell_type": "code",
      "source": [
        "weight_df = pd.Dataframe({\n",
        "    'features': (numeric_cols + encoded_cols),\n",
        "    'weights': model.coef_.tolist()[0]\n",
        "})"
      ],
      "metadata": {
        "id": "DooWBujVTyxM"
      },
      "id": "DooWBujVTyxM",
      "execution_count": null,
      "outputs": []
    },
    {
      "cell_type": "code",
      "source": [
        "plt.figure(figsize=(10,50))\n",
        "sns.barplot(data = weight_df.sort_values('weight', ascending=False), x='weight', y='feature')"
      ],
      "metadata": {
        "id": "3DFqHp5UTzyp"
      },
      "id": "3DFqHp5UTzyp",
      "execution_count": null,
      "outputs": []
    },
    {
      "cell_type": "markdown",
      "id": "fifteen-vermont",
      "metadata": {
        "id": "fifteen-vermont"
      },
      "source": [
        "Each weight is applied to the value in a specific column of the input. Higher the weight, greater the impact of the column on the prediction."
      ]
    },
    {
      "cell_type": "markdown",
      "id": "boxed-parish",
      "metadata": {
        "id": "boxed-parish"
      },
      "source": [
        "## Making Predictions and Evaluating the Model\n",
        "\n",
        "We can now use the trained model to make predictions on the training, test"
      ]
    },
    {
      "cell_type": "code",
      "execution_count": null,
      "id": "hungarian-climate",
      "metadata": {
        "id": "hungarian-climate"
      },
      "outputs": [],
      "source": [
        "X_train = train_inputs[numeric_cols + encoded_cols]\n",
        "X_val = val_inputs[numeric_cols + encoded_cols]\n",
        "X_test = test_inputs[numeric_cols + encoded_cols]"
      ]
    },
    {
      "cell_type": "code",
      "execution_count": null,
      "id": "russian-breakdown",
      "metadata": {
        "id": "russian-breakdown"
      },
      "outputs": [],
      "source": [
        "train_preds = model.predict(X_train)"
      ]
    },
    {
      "cell_type": "code",
      "execution_count": null,
      "id": "structured-boulder",
      "metadata": {
        "id": "structured-boulder"
      },
      "outputs": [],
      "source": [
        "train_preds"
      ]
    },
    {
      "cell_type": "code",
      "execution_count": null,
      "id": "exclusive-assistant",
      "metadata": {
        "id": "exclusive-assistant"
      },
      "outputs": [],
      "source": [
        "train_targets"
      ]
    },
    {
      "cell_type": "markdown",
      "id": "respected-crisis",
      "metadata": {
        "id": "respected-crisis"
      },
      "source": [
        "We can output a probabilistic prediction using `predict_proba`."
      ]
    },
    {
      "cell_type": "code",
      "execution_count": null,
      "id": "accredited-elite",
      "metadata": {
        "id": "accredited-elite"
      },
      "outputs": [],
      "source": [
        "train_probs = model.predict_proba(X_train)\n",
        "train_probs"
      ]
    },
    {
      "cell_type": "markdown",
      "id": "hungarian-disposition",
      "metadata": {
        "id": "hungarian-disposition"
      },
      "source": [
        "The numbers above indicate the probabilities for the target classes \"No\" and \"Yes\"."
      ]
    },
    {
      "cell_type": "code",
      "execution_count": null,
      "id": "concerned-combat",
      "metadata": {
        "id": "concerned-combat"
      },
      "outputs": [],
      "source": [
        "model.classes_"
      ]
    },
    {
      "cell_type": "markdown",
      "id": "hearing-employee",
      "metadata": {
        "id": "hearing-employee"
      },
      "source": [
        "We can test the accuracy of the model's predictions by computing the percentage of matching values in `train_preds` and `train_targets`.\n",
        "\n",
        "This can be done using the `accuracy_score` function from `sklearn.metrics`."
      ]
    },
    {
      "cell_type": "code",
      "execution_count": null,
      "id": "fifty-accreditation",
      "metadata": {
        "id": "fifty-accreditation"
      },
      "outputs": [],
      "source": [
        "from sklearn.metrics import accuracy_score"
      ]
    },
    {
      "cell_type": "code",
      "execution_count": null,
      "id": "surgical-constraint",
      "metadata": {
        "id": "surgical-constraint"
      },
      "outputs": [],
      "source": [
        "accuracy_score(train_targets, train_preds)"
      ]
    },
    {
      "cell_type": "markdown",
      "id": "blocked-estate",
      "metadata": {
        "id": "blocked-estate"
      },
      "source": [
        "The model achieves an accuracy of 85.1% on the training set. We can visualize the breakdown of correctly and incorrectly classified inputs using a confusion matrix."
      ]
    },
    {
      "cell_type": "code",
      "execution_count": null,
      "id": "associate-television",
      "metadata": {
        "id": "associate-television"
      },
      "outputs": [],
      "source": [
        "from sklearn.metrics import confusion_matrix"
      ]
    },
    {
      "cell_type": "code",
      "execution_count": null,
      "id": "systematic-technique",
      "metadata": {
        "id": "systematic-technique"
      },
      "outputs": [],
      "source": [
        "confusion_matrix(train_targets, train_preds, normalize='true')"
      ]
    },
    {
      "cell_type": "markdown",
      "id": "specialized-fight",
      "metadata": {
        "id": "specialized-fight"
      },
      "source": [
        "Let's define a helper function to generate predictions, compute the accuracy score and plot a confusion matrix for a given st of inputs."
      ]
    },
    {
      "cell_type": "code",
      "execution_count": null,
      "id": "super-savings",
      "metadata": {
        "id": "super-savings"
      },
      "outputs": [],
      "source": [
        "def predict_and_plot(inputs, targets, name=''):\n",
        "    preds = model.predict(inputs)\n",
        "\n",
        "    accuracy = accuracy_score(targets, preds)\n",
        "    print(\"Accuracy: {:.2f}%\".format(accuracy * 100))\n",
        "\n",
        "    cf = confusion_matrix(targets, preds, normalize='true')\n",
        "    plt.figure()\n",
        "    sns.heatmap(cf, annot=True)\n",
        "    plt.xlabel('Prediction')\n",
        "    plt.ylabel('Target')\n",
        "    plt.title('{} Confusion Matrix'.format(name));\n",
        "\n",
        "    return preds"
      ]
    },
    {
      "cell_type": "code",
      "execution_count": null,
      "id": "intense-silicon",
      "metadata": {
        "id": "intense-silicon"
      },
      "outputs": [],
      "source": [
        "train_preds = predict_and_plot(X_train, train_targets, 'Training')"
      ]
    },
    {
      "cell_type": "markdown",
      "id": "medical-transsexual",
      "metadata": {
        "id": "medical-transsexual"
      },
      "source": [
        "Let's compute the model's accuracy on the validation and test sets too."
      ]
    },
    {
      "cell_type": "code",
      "execution_count": null,
      "id": "colonial-produce",
      "metadata": {
        "id": "colonial-produce"
      },
      "outputs": [],
      "source": [
        "val_preds = predict_and_plot(X_val, val_targets, 'Validatiaon')"
      ]
    },
    {
      "cell_type": "code",
      "execution_count": null,
      "id": "magnetic-jewel",
      "metadata": {
        "id": "magnetic-jewel"
      },
      "outputs": [],
      "source": [
        "test_preds = predict_and_plot(X_test, test_targets, 'Test')"
      ]
    },
    {
      "cell_type": "markdown",
      "id": "reflected-garage",
      "metadata": {
        "id": "reflected-garage"
      },
      "source": [
        "The accuracy of the model on the test and validation set are above 84%, which suggests that our model generalizes well to data it hasn't seen before.\n",
        "\n",
        "But how good is 84% accuracy? While this depends on the nature of the problem and on business requirements, a good way to verify whether a model has actually learned something useful is to compare its results to a \"random\" or \"dumb\" model.\n",
        "\n",
        "Let's create two models: one that guesses randomly and another that always return \"No\". Both of these models completely ignore the inputs given to them."
      ]
    },
    {
      "cell_type": "code",
      "execution_count": null,
      "id": "intimate-hazard",
      "metadata": {
        "id": "intimate-hazard"
      },
      "outputs": [],
      "source": [
        "def random_guess(inputs):\n",
        "    return np.random.choice([\"No\", \"Yes\"], len(inputs))"
      ]
    },
    {
      "cell_type": "code",
      "execution_count": null,
      "id": "boolean-render",
      "metadata": {
        "id": "boolean-render"
      },
      "outputs": [],
      "source": [
        "def all_no(inputs):\n",
        "    return np.full(len(inputs), \"No\")"
      ]
    },
    {
      "cell_type": "markdown",
      "id": "historical-diploma",
      "metadata": {
        "id": "historical-diploma"
      },
      "source": [
        "Let's check the accuracies of these two models on the test set."
      ]
    },
    {
      "cell_type": "code",
      "execution_count": null,
      "id": "middle-feature",
      "metadata": {
        "id": "middle-feature"
      },
      "outputs": [],
      "source": [
        "accuracy_score(test_targets, random_guess(X_test))"
      ]
    },
    {
      "cell_type": "code",
      "execution_count": null,
      "id": "identical-beauty",
      "metadata": {
        "id": "identical-beauty"
      },
      "outputs": [],
      "source": [
        "accuracy_score(test_targets, all_no(X_test))"
      ]
    },
    {
      "cell_type": "markdown",
      "id": "balanced-miller",
      "metadata": {
        "id": "balanced-miller"
      },
      "source": [
        "Our random model achieves an accuracy of 50% and our \"always No\" model achieves an accuracy of 77%.\n",
        "\n",
        "Thankfully, our model is better than a \"dumb\" or \"random\" model! This is not always the case, so it's a good practice to benchmark any model you train against such baseline models."
      ]
    },
    {
      "cell_type": "markdown",
      "id": "motivated-hanging",
      "metadata": {
        "id": "motivated-hanging"
      },
      "source": [
        "> **EXERCISE**: Initialize the `LogisticRegression` model with different arguments and try to achieve a higher accuracy. The arguments used for initializing the model are called hyperparameters (to differentiate them from weights and biases - parameters that are learned by the model during training). You can find the full list of arguments here: https://scikit-learn.org/stable/modules/generated/sklearn.linear_model.LogisticRegression.html"
      ]
    },
    {
      "cell_type": "code",
      "execution_count": null,
      "id": "boxed-taylor",
      "metadata": {
        "id": "boxed-taylor"
      },
      "outputs": [],
      "source": []
    },
    {
      "cell_type": "code",
      "execution_count": null,
      "id": "empty-occasion",
      "metadata": {
        "id": "empty-occasion"
      },
      "outputs": [],
      "source": []
    },
    {
      "cell_type": "markdown",
      "id": "dramatic-empty",
      "metadata": {
        "id": "dramatic-empty"
      },
      "source": [
        "> **EXERCISE**: Train a logistic regression model using just the numeric columns from the dataset. Does it perform better or worse than the model trained above?"
      ]
    },
    {
      "cell_type": "code",
      "execution_count": null,
      "id": "honey-extraction",
      "metadata": {
        "id": "honey-extraction"
      },
      "outputs": [],
      "source": []
    },
    {
      "cell_type": "code",
      "execution_count": null,
      "id": "comparable-pregnancy",
      "metadata": {
        "id": "comparable-pregnancy"
      },
      "outputs": [],
      "source": []
    },
    {
      "cell_type": "markdown",
      "id": "greenhouse-owner",
      "metadata": {
        "id": "greenhouse-owner"
      },
      "source": [
        "> **EXERCISE**: Train a logistic regression model using just the categorical columns from the dataset. Does it perform better or worse than the model trained above?"
      ]
    },
    {
      "cell_type": "code",
      "execution_count": null,
      "id": "welsh-southwest",
      "metadata": {
        "id": "welsh-southwest"
      },
      "outputs": [],
      "source": []
    },
    {
      "cell_type": "code",
      "execution_count": null,
      "id": "cardiac-wagon",
      "metadata": {
        "id": "cardiac-wagon"
      },
      "outputs": [],
      "source": []
    },
    {
      "cell_type": "markdown",
      "id": "considered-double",
      "metadata": {
        "id": "considered-double"
      },
      "source": [
        "> **EXERCISE**: Train a logistic regression model without feature scaling. Also try a different strategy for missing data imputation. Does it perform better or worse than the model trained above?"
      ]
    },
    {
      "cell_type": "code",
      "execution_count": null,
      "id": "obvious-bench",
      "metadata": {
        "id": "obvious-bench"
      },
      "outputs": [],
      "source": []
    },
    {
      "cell_type": "code",
      "execution_count": null,
      "id": "violent-capacity",
      "metadata": {
        "id": "violent-capacity"
      },
      "outputs": [],
      "source": []
    },
    {
      "cell_type": "markdown",
      "id": "stone-neutral",
      "metadata": {
        "id": "stone-neutral"
      },
      "source": [
        "## Making Predictions on a Single Input\n",
        "\n",
        "Once the model has been trained to a satisfactory accuracy, it can be used to make predictions on new data. Consider the following dictionary containing data collected from the Katherine weather department today."
      ]
    },
    {
      "cell_type": "code",
      "execution_count": null,
      "id": "completed-fiction",
      "metadata": {
        "id": "completed-fiction"
      },
      "outputs": [],
      "source": [
        "new_input = {'Date': '2021-06-19',\n",
        "             'Location': 'Katherine',\n",
        "             'MinTemp': 23.2,\n",
        "             'MaxTemp': 33.2,\n",
        "             'Rainfall': 10.2,\n",
        "             'Evaporation': 4.2,\n",
        "             'Sunshine': np.nan,\n",
        "             'WindGustDir': 'NNW',\n",
        "             'WindGustSpeed': 52.0,\n",
        "             'WindDir9am': 'NW',\n",
        "             'WindDir3pm': 'NNE',\n",
        "             'WindSpeed9am': 13.0,\n",
        "             'WindSpeed3pm': 20.0,\n",
        "             'Humidity9am': 89.0,\n",
        "             'Humidity3pm': 58.0,\n",
        "             'Pressure9am': 1004.8,\n",
        "             'Pressure3pm': 1001.5,\n",
        "             'Cloud9am': 8.0,\n",
        "             'Cloud3pm': 5.0,\n",
        "             'Temp9am': 25.7,\n",
        "             'Temp3pm': 33.0,\n",
        "             'RainToday': 'Yes'}"
      ]
    },
    {
      "cell_type": "markdown",
      "id": "twelve-employee",
      "metadata": {
        "id": "twelve-employee"
      },
      "source": [
        "The first step is to convert the dictionary into a Pandas dataframe, similar to `raw_df`. This can be done by passing a list containing the given dictionary to the `pd.DataFrame` constructor."
      ]
    },
    {
      "cell_type": "code",
      "execution_count": null,
      "id": "helpful-alloy",
      "metadata": {
        "id": "helpful-alloy"
      },
      "outputs": [],
      "source": [
        "new_input_df = pd.DataFrame([new_input])"
      ]
    },
    {
      "cell_type": "code",
      "execution_count": null,
      "id": "communist-complex",
      "metadata": {
        "id": "communist-complex"
      },
      "outputs": [],
      "source": [
        "new_input_df"
      ]
    },
    {
      "cell_type": "markdown",
      "id": "opened-furniture",
      "metadata": {
        "id": "opened-furniture"
      },
      "source": [
        "We've now created a Pandas dataframe with the same columns as `raw_df` (except `RainTomorrow`, which needs to be predicted). The dataframe contains just one row of data, containing the given input.\n",
        "\n",
        "\n",
        "We must now apply the same transformations applied while training the model:\n",
        "\n",
        "1. Imputation of missing values using the `imputer` created earlier\n",
        "2. Scaling numerical features using the `scaler` created earlier\n",
        "3. Encoding categorical features using the `encoder` created earlier"
      ]
    },
    {
      "cell_type": "code",
      "execution_count": null,
      "id": "chicken-concept",
      "metadata": {
        "id": "chicken-concept"
      },
      "outputs": [],
      "source": [
        "new_input_df[numeric_cols] = imputer.transform(new_input_df[numeric_cols])\n",
        "new_input_df[numeric_cols] = scaler.transform(new_input_df[numeric_cols])\n",
        "new_input_df[encoded_cols] = encoder.transform(new_input_df[categorical_cols])"
      ]
    },
    {
      "cell_type": "code",
      "execution_count": null,
      "id": "advised-filling",
      "metadata": {
        "id": "advised-filling"
      },
      "outputs": [],
      "source": [
        "X_new_input = new_input_df[numeric_cols + encoded_cols]\n",
        "X_new_input"
      ]
    },
    {
      "cell_type": "markdown",
      "id": "stretch-design",
      "metadata": {
        "id": "stretch-design"
      },
      "source": [
        "We can now make a prediction using `model.predict`."
      ]
    },
    {
      "cell_type": "code",
      "execution_count": null,
      "id": "sharp-publicity",
      "metadata": {
        "id": "sharp-publicity"
      },
      "outputs": [],
      "source": [
        "prediction = model.predict(X_new_input)[0]"
      ]
    },
    {
      "cell_type": "code",
      "execution_count": null,
      "id": "particular-reverse",
      "metadata": {
        "id": "particular-reverse"
      },
      "outputs": [],
      "source": [
        "prediction"
      ]
    },
    {
      "cell_type": "markdown",
      "id": "interpreted-webster",
      "metadata": {
        "id": "interpreted-webster"
      },
      "source": [
        "Our model predicts that it will rain tomorrow in Katherine! We can also check the probability of the prediction."
      ]
    },
    {
      "cell_type": "code",
      "execution_count": null,
      "id": "cognitive-mumbai",
      "metadata": {
        "id": "cognitive-mumbai"
      },
      "outputs": [],
      "source": [
        "prob = model.predict_proba(X_new_input)[0]"
      ]
    },
    {
      "cell_type": "code",
      "execution_count": null,
      "id": "hispanic-torture",
      "metadata": {
        "id": "hispanic-torture"
      },
      "outputs": [],
      "source": [
        "prob"
      ]
    },
    {
      "cell_type": "markdown",
      "id": "piano-diagnosis",
      "metadata": {
        "id": "piano-diagnosis"
      },
      "source": [
        "Looks like our model isn't too confident about its prediction!"
      ]
    },
    {
      "cell_type": "markdown",
      "id": "lightweight-cursor",
      "metadata": {
        "id": "lightweight-cursor"
      },
      "source": [
        "Let's define a helper function to make predictions for individual inputs."
      ]
    },
    {
      "cell_type": "code",
      "execution_count": null,
      "id": "arabic-african",
      "metadata": {
        "id": "arabic-african"
      },
      "outputs": [],
      "source": [
        "def predict_input(single_input):\n",
        "    input_df = pd.DataFrame([single_input])\n",
        "    input_df[numeric_cols] = imputer.transform(input_df[numeric_cols])\n",
        "    input_df[numeric_cols] = scaler.transform(input_df[numeric_cols])\n",
        "    input_df[encoded_cols] = encoder.transform(input_df[categorical_cols])\n",
        "    X_input = input_df[numeric_cols + encoded_cols]\n",
        "    pred = model.predict(X_input)[0]\n",
        "    prob = model.predict_proba(X_input)[0][list(model.classes_).index(pred)]\n",
        "    return pred, prob"
      ]
    },
    {
      "cell_type": "markdown",
      "id": "patient-table",
      "metadata": {
        "id": "patient-table"
      },
      "source": [
        "We can now use this function to make predictions for individual inputs."
      ]
    },
    {
      "cell_type": "code",
      "execution_count": null,
      "id": "collected-length",
      "metadata": {
        "id": "collected-length"
      },
      "outputs": [],
      "source": [
        "new_input = {'Date': '2021-06-19',\n",
        "             'Location': 'Launceston',\n",
        "             'MinTemp': 23.2,\n",
        "             'MaxTemp': 33.2,\n",
        "             'Rainfall': 10.2,\n",
        "             'Evaporation': 4.2,\n",
        "             'Sunshine': np.nan,\n",
        "             'WindGustDir': 'NNW',\n",
        "             'WindGustSpeed': 52.0,\n",
        "             'WindDir9am': 'NW',\n",
        "             'WindDir3pm': 'NNE',\n",
        "             'WindSpeed9am': 13.0,\n",
        "             'WindSpeed3pm': 20.0,\n",
        "             'Humidity9am': 89.0,\n",
        "             'Humidity3pm': 58.0,\n",
        "             'Pressure9am': 1004.8,\n",
        "             'Pressure3pm': 1001.5,\n",
        "             'Cloud9am': 8.0,\n",
        "             'Cloud3pm': 5.0,\n",
        "             'Temp9am': 25.7,\n",
        "             'Temp3pm': 33.0,\n",
        "             'RainToday': 'Yes'}"
      ]
    },
    {
      "cell_type": "code",
      "execution_count": null,
      "id": "seeing-worship",
      "metadata": {
        "id": "seeing-worship"
      },
      "outputs": [],
      "source": [
        "predict_input(new_input)"
      ]
    },
    {
      "cell_type": "markdown",
      "id": "associate-fighter",
      "metadata": {
        "id": "associate-fighter"
      },
      "source": [
        "> **EXERCISE**: Try changing the values in `new_input` and observe how the predictions and probabilities change. Try different values of location, temperature, humidity, pressure etc. Try to get an _intuitive feel_ of which columns have the greatest effect on the result of the model."
      ]
    },
    {
      "cell_type": "code",
      "execution_count": null,
      "id": "welsh-position",
      "metadata": {
        "id": "welsh-position"
      },
      "outputs": [],
      "source": [
        "raw_df.Location.unique()"
      ]
    },
    {
      "cell_type": "code",
      "execution_count": null,
      "id": "arabic-cleanup",
      "metadata": {
        "id": "arabic-cleanup"
      },
      "outputs": [],
      "source": []
    },
    {
      "cell_type": "code",
      "execution_count": null,
      "id": "confused-studio",
      "metadata": {
        "id": "confused-studio"
      },
      "outputs": [],
      "source": []
    },
    {
      "cell_type": "markdown",
      "id": "israeli-stable",
      "metadata": {
        "id": "israeli-stable"
      },
      "source": [
        "## Saving and Loading Trained Models\n",
        "\n",
        "We can save the parameters (weights and biases) of our trained model to disk, so that we needn't retrain the model from scratch each time we wish to use it. Along with the model, it's also important to save imputers, scalers, encoders and even column names. Anything that will be required while generating predictions using the model should be saved.\n",
        "\n",
        "We can use the `joblib` module to save and load Python objects on the disk."
      ]
    },
    {
      "cell_type": "code",
      "execution_count": null,
      "id": "bored-villa",
      "metadata": {
        "id": "bored-villa"
      },
      "outputs": [],
      "source": [
        "import joblib"
      ]
    },
    {
      "cell_type": "markdown",
      "id": "valued-helicopter",
      "metadata": {
        "id": "valued-helicopter"
      },
      "source": [
        "Let's first create a dictionary containing all the required objects."
      ]
    },
    {
      "cell_type": "code",
      "execution_count": null,
      "id": "secret-mortgage",
      "metadata": {
        "id": "secret-mortgage"
      },
      "outputs": [],
      "source": [
        "aussie_rain = {\n",
        "    'model': model,\n",
        "    'imputer': imputer,\n",
        "    'scaler': scaler,\n",
        "    'encoder': encoder,\n",
        "    'input_cols': input_cols,\n",
        "    'target_col': target_col,\n",
        "    'numeric_cols': numeric_cols,\n",
        "    'categorical_cols': categorical_cols,\n",
        "    'encoded_cols': encoded_cols\n",
        "}"
      ]
    },
    {
      "cell_type": "markdown",
      "id": "threatened-microwave",
      "metadata": {
        "id": "threatened-microwave"
      },
      "source": [
        "We can now save this to a file using `joblib.dump`"
      ]
    },
    {
      "cell_type": "code",
      "execution_count": null,
      "id": "bottom-prompt",
      "metadata": {
        "id": "bottom-prompt"
      },
      "outputs": [],
      "source": [
        "joblib.dump(aussie_rain, 'aussie_rain.joblib')"
      ]
    },
    {
      "cell_type": "markdown",
      "id": "marine-semiconductor",
      "metadata": {
        "id": "marine-semiconductor"
      },
      "source": [
        "The object can be loaded back using `joblib.load`"
      ]
    },
    {
      "cell_type": "code",
      "execution_count": null,
      "id": "driven-decline",
      "metadata": {
        "id": "driven-decline"
      },
      "outputs": [],
      "source": [
        "aussie_rain2 = joblib.load('aussie_rain.joblib')"
      ]
    },
    {
      "cell_type": "markdown",
      "id": "going-petersburg",
      "metadata": {
        "id": "going-petersburg"
      },
      "source": [
        "Let's use the loaded model to make predictions on the original test set."
      ]
    },
    {
      "cell_type": "code",
      "execution_count": null,
      "id": "contemporary-chest",
      "metadata": {
        "id": "contemporary-chest"
      },
      "outputs": [],
      "source": [
        "test_preds2 = aussie_rain2['model'].predict(X_test)\n",
        "accuracy_score(test_targets, test_preds2)"
      ]
    },
    {
      "cell_type": "markdown",
      "id": "experimental-chester",
      "metadata": {
        "id": "experimental-chester"
      },
      "source": [
        "As expected, we get the same result as the original model."
      ]
    },
    {
      "cell_type": "markdown",
      "id": "wrapped-buddy",
      "metadata": {
        "id": "wrapped-buddy"
      },
      "source": [
        "## Putting it all Together"
      ]
    },
    {
      "cell_type": "markdown",
      "id": "sixth-browse",
      "metadata": {
        "id": "sixth-browse"
      },
      "source": [
        "### Data Preprocessing"
      ]
    },
    {
      "cell_type": "code",
      "execution_count": null,
      "id": "raised-spiritual",
      "metadata": {
        "id": "raised-spiritual"
      },
      "outputs": [],
      "source": [
        "import opendatasets as od\n",
        "import pandas as pd\n",
        "import numpy as np\n",
        "from sklearn.impute import SimpleImputer\n",
        "from sklearn.preprocessing import MinMaxScaler, OneHotEncoder\n",
        "\n",
        "# Download the dataset\n",
        "od.download('https://www.kaggle.com/jsphyg/weather-dataset-rattle-package')\n",
        "raw_df = pd.read_csv('weather-dataset-rattle-package/weatherAUS.csv')\n",
        "raw_df.dropna(subset=['RainToday', 'RainTomorrow'], inplace=True)\n",
        "\n",
        "# Create training, validation and test sets\n",
        "year = pd.to_datetime(raw_df.Date).dt.year\n",
        "train_df, val_df, test_df = raw_df[year < 2015], raw_df[year == 2015], raw_df[year > 2015]\n",
        "\n",
        "# Create inputs and targets\n",
        "input_cols = list(train_df.columns)[1:-1]\n",
        "target_col = 'RainTomorrow'\n",
        "train_inputs, train_targets = train_df[input_cols].copy(), train_df[target_col].copy()\n",
        "val_inputs, val_targets = val_df[input_cols].copy(), val_df[target_col].copy()\n",
        "test_inputs, test_targets = test_df[input_cols].copy(), test_df[target_col].copy()\n",
        "\n",
        "# Identify numeric and categorical columns\n",
        "numeric_cols = train_inputs.select_dtypes(include=np.number).columns.tolist()[:-1]\n",
        "categorical_cols = train_inputs.select_dtypes('object').columns.tolist()\n",
        "\n",
        "# Impute missing numerical values\n",
        "imputer = SimpleImputer(strategy = 'mean').fit(raw_df[numeric_cols])\n",
        "train_inputs[numeric_cols] = imputer.transform(train_inputs[numeric_cols])\n",
        "val_inputs[numeric_cols] = imputer.transform(val_inputs[numeric_cols])\n",
        "test_inputs[numeric_cols] = imputer.transform(test_inputs[numeric_cols])\n",
        "\n",
        "# Scale numeric features\n",
        "scaler = MinMaxScaler().fit(raw_df[numeric_cols])\n",
        "train_inputs[numeric_cols] = scaler.transform(train_inputs[numeric_cols])\n",
        "val_inputs[numeric_cols] = scaler.transform(val_inputs[numeric_cols])\n",
        "test_inputs[numeric_cols] = scaler.transform(test_inputs[numeric_cols])\n",
        "\n",
        "# One-hot encode categorical features\n",
        "encoder = OneHotEncoder(sparse=False, handle_unknown='ignore').fit(raw_df[categorical_cols])\n",
        "encoded_cols = list(encoder.get_feature_names(categorical_cols))\n",
        "train_inputs[encoded_cols] = encoder.transform(train_inputs[categorical_cols])\n",
        "val_inputs[encoded_cols] = encoder.transform(val_inputs[categorical_cols])\n",
        "test_inputs[encoded_cols] = encoder.transform(test_inputs[categorical_cols])\n",
        "\n",
        "# Save processed data to disk\n",
        "train_inputs.to_parquet('train_inputs.parquet')\n",
        "val_inputs.to_parquet('val_inputs.parquet')\n",
        "test_inputs.to_parquet('test_inputs.parquet')\n",
        "pd.DataFrame(train_targets).to_parquet('train_targets.parquet')\n",
        "pd.DataFrame(val_targets).to_parquet('val_targets.parquet')\n",
        "pd.DataFrame(test_targets).to_parquet('test_targets.parquet')\n",
        "\n",
        "# Load processed data from disk\n",
        "train_inputs = pd.read_parquet('train_inputs.parquet')\n",
        "val_inputs = pd.read_parquet('val_inputs.parquet')\n",
        "test_inputs = pd.read_parquet('test_inputs.parquet')\n",
        "train_targets = pd.read_parquet('train_targets.parquet')[target_col]\n",
        "val_targets = pd.read_parquet('val_targets.parquet')[target_col]\n",
        "test_targets = pd.read_parquet('test_targets.parquet')[target_col]\n"
      ]
    },
    {
      "cell_type": "markdown",
      "id": "disabled-treasury",
      "metadata": {
        "id": "disabled-treasury"
      },
      "source": [
        "### Model Training and Evaluation\n"
      ]
    },
    {
      "cell_type": "code",
      "execution_count": null,
      "id": "moving-surprise",
      "metadata": {
        "id": "moving-surprise"
      },
      "outputs": [],
      "source": [
        "from sklearn.linear_model import LogisticRegression\n",
        "from sklearn.metrics import accuracy_score\n",
        "import joblib\n",
        "\n",
        "# Select the columns to be used for training/prediction\n",
        "X_train = train_inputs[numeric_cols + encoded_cols]\n",
        "X_val = val_inputs[numeric_cols + encoded_cols]\n",
        "X_test = test_inputs[numeric_cols + encoded_cols]\n",
        "\n",
        "# Create and train the model\n",
        "model = LogisticRegression(solver='liblinear')\n",
        "model.fit(X_train, train_targets)\n",
        "\n",
        "# Generate predictions and probabilities\n",
        "train_preds = model.predict(X_train)\n",
        "train_probs = model.predict_proba(X_train)\n",
        "accuracy_score(train_targets, train_preds)\n",
        "\n",
        "# Helper function to predict, compute accuracy & plot confustion matrix\n",
        "def predict_and_plot(inputs, targets, name=''):\n",
        "    preds = model.predict(inputs)\n",
        "    accuracy = accuracy_score(targets, preds)\n",
        "    print(\"Accuracy: {:.2f}%\".format(accuracy * 100))\n",
        "    cf = confusion_matrix(targets, preds, normalize='true')\n",
        "    plt.figure()\n",
        "    sns.heatmap(cf, annot=True)\n",
        "    plt.xlabel('Prediction')\n",
        "    plt.ylabel('Target')\n",
        "    plt.title('{} Confusion Matrix'.format(name));\n",
        "    return preds\n",
        "\n",
        "# Evaluate on validation and test set\n",
        "val_preds = predict_and_plot(X_val, val_targets, 'Validation')\n",
        "test_preds = predict_and_plot(X_test, test_targets, 'Test')\n",
        "\n",
        "# Save the trained model & load it back\n",
        "aussie_rain = {'model': model, 'imputer': imputer, 'scaler': scaler, 'encoder': encoder,\n",
        "               'input_cols': input_cols, 'target_col': target_col, 'numeric_cols': numeric_cols,\n",
        "               'categorical_cols': categorical_cols, 'encoded_cols': encoded_cols}\n",
        "joblib.dump(aussie_rain, 'aussie_rain.joblib')\n",
        "aussie_rain2 = joblib.load('aussie_rain.joblib')"
      ]
    },
    {
      "cell_type": "markdown",
      "id": "sexual-guess",
      "metadata": {
        "id": "sexual-guess"
      },
      "source": [
        "### Prediction on Single Inputs"
      ]
    },
    {
      "cell_type": "code",
      "execution_count": null,
      "id": "bottom-argument",
      "metadata": {
        "id": "bottom-argument"
      },
      "outputs": [],
      "source": [
        "def predict_input(single_input):\n",
        "    input_df = pd.DataFrame([single_input])\n",
        "    input_df[numeric_cols] = imputer.transform(input_df[numeric_cols])\n",
        "    input_df[numeric_cols] = scaler.transform(input_df[numeric_cols])\n",
        "    input_df[encoded_cols] = encoder.transform(input_df[categorical_cols])\n",
        "    X_input = input_df[numeric_cols + encoded_cols]\n",
        "    pred = model.predict(X_input)[0]\n",
        "    prob = model.predict_proba(X_input)[0][list(model.classes_).index(pred)]\n",
        "    return pred, prob\n",
        "\n",
        "new_input = {'Date': '2021-06-19',\n",
        "             'Location': 'Launceston',\n",
        "             'MinTemp': 23.2,\n",
        "             'MaxTemp': 33.2,\n",
        "             'Rainfall': 10.2,\n",
        "             'Evaporation': 4.2,\n",
        "             'Sunshine': np.nan,\n",
        "             'WindGustDir': 'NNW',\n",
        "             'WindGustSpeed': 52.0,\n",
        "             'WindDir9am': 'NW',\n",
        "             'WindDir3pm': 'NNE',\n",
        "             'WindSpeed9am': 13.0,\n",
        "             'WindSpeed3pm': 20.0,\n",
        "             'Humidity9am': 89.0,\n",
        "             'Humidity3pm': 58.0,\n",
        "             'Pressure9am': 1004.8,\n",
        "             'Pressure3pm': 1001.5,\n",
        "             'Cloud9am': 8.0,\n",
        "             'Cloud3pm': 5.0,\n",
        "             'Temp9am': 25.7,\n",
        "             'Temp3pm': 33.0,\n",
        "             'RainToday': 'Yes'}\n",
        "\n",
        "predict_input(new_input)"
      ]
    },
    {
      "cell_type": "markdown",
      "id": "electronic-literature",
      "metadata": {
        "id": "electronic-literature"
      },
      "source": [
        "## Summary and References\n",
        "\n",
        "Logistic regression is a commonly used technique for solving binary classification problems. In a logistic regression model:\n",
        "\n",
        "- we take linear combination (or weighted sum of the input features)\n",
        "- we apply the sigmoid function to the result to obtain a number between 0 and 1\n",
        "- this number represents the probability of the input being classified as \"Yes\"\n",
        "- instead of RMSE, the cross entropy loss function is used to evaluate the results\n",
        "\n",
        "\n",
        "\n",
        "To train a logistic regression model, we can use the `LogisticRegression` class from Scikit-learn. We covered the following topics in this notebook:\n",
        "\n",
        "- Downloading a real-world dataset from Kaggle\n",
        "- Exploratory data analysis and visualization\n",
        "- Splitting a dataset into training, validation & test sets\n",
        "- Filling/imputing missing values in numeric columns\n",
        "- Scaling numeric features to a $(0,1)$ range\n",
        "- Encoding categorical columns as one-hot vectors\n",
        "- Training a logistic regression model using Scikit-learn\n",
        "- Evaluating a model using a validation set and test set\n",
        "- Saving a model to disk and loading it back\n",
        "\n",
        "\n",
        "\n",
        "Try training logistic regression models on the following datasets:\n",
        "\n",
        "- [Breast cancer detection](https://www.kaggle.com/uciml/breast-cancer-wisconsin-data): Predicting whether a tumor  is \"benign\" (noncancerous) or \"malignant\" (cancerous) using information like its radius, texture etc.\n",
        "- [Loan Repayment Prediction](https://www.kaggle.com/c/home-credit-default-risk) - Predicting whether applicants will repay a home loan based on factors like age, income, loan amount, no. of children etc.\n",
        "- [Handwritten Digit Recognition](https://www.kaggle.com/c/digit-recognizer) - Identifying which digit from 0 to 9 a picture of handwritten text represents.\n"
      ]
    },
    {
      "cell_type": "code",
      "execution_count": null,
      "id": "forced-shopping",
      "metadata": {
        "id": "forced-shopping"
      },
      "outputs": [],
      "source": []
    }
  ],
  "metadata": {
    "colab": {
      "collapsed_sections": [
        "electronic-literature"
      ],
      "provenance": []
    },
    "kernelspec": {
      "display_name": "Python 3",
      "language": "python",
      "name": "python3"
    },
    "language_info": {
      "codemirror_mode": {
        "name": "ipython",
        "version": 3
      },
      "file_extension": ".py",
      "mimetype": "text/x-python",
      "name": "python",
      "nbconvert_exporter": "python",
      "pygments_lexer": "ipython3",
      "version": "3.9.5"
    }
  },
  "nbformat": 4,
  "nbformat_minor": 5
}